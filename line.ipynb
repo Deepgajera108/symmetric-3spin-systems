{
 "cells": [
  {
   "cell_type": "code",
   "execution_count": 19,
   "metadata": {},
   "outputs": [],
   "source": [
    "import numpy as np\n",
    "import scipy "
   ]
  },
  {
   "cell_type": "code",
   "execution_count": 20,
   "metadata": {},
   "outputs": [
    {
     "name": "stdout",
     "output_type": "stream",
     "text": [
      "EigResult(eigenvalues=array([-0.46084953,  0.01084953]), eigenvectors=array([[-0.98843262, -0.15166065],\n",
      "       [ 0.15166065, -0.98843262]])) -0.9884326208714797 -0.15166065408383947\n"
     ]
    }
   ],
   "source": [
    "# Use python3\n",
    "\n",
    "\n",
    "j1 = 1.0\n",
    "j4 = 0.1\n",
    "j3 = 0.2\n",
    "j2 = 0.1\n",
    "\n",
    "e1 = j1/2+j3/4 \n",
    "e2 = -(j4+j3/2)/2 \n",
    "ematrix = np.array([[-j1/2+j3/4, j2/np.sqrt(2)],\n",
    "                    [(j2/np.sqrt(2)), -j3/4+j4/2]])\n",
    "evals = np.linalg.eig(ematrix)\n",
    "energy = np.array([e1,e2,evals[0][0], evals[0][1]])\n",
    "alpha = evals[1][0][0]\n",
    "beta = evals[1][0][1]\n",
    "c1 = np.sqrt(1/6)*(np.sqrt(6-(6*np.abs(alpha)**4+4*np.abs(alpha)**2*np.abs(beta)**2 + 4*np.abs(beta)**4)))\n",
    "c2 = np.sqrt(1/6)*(np.sqrt(6-(6*np.abs(beta)**4+4*np.abs(alpha)**2*np.abs(beta)**2 + 4*np.abs(alpha)**4)))\n",
    "concurs = np.array([0,1,c1,c2,0])\n",
    "print (evals,alpha,beta)\n",
    "\n",
    "#quit()\n",
    "\n",
    "\n",
    "\n",
    "\n",
    "#sample output for T = .2 is \n",
    "#density_fin\n",
    "#array([-2.46020284e-09,  7.42972817e-02,  5.09902820e-01,  1.68645764e-01,\n",
    "#        1.77262352e-10,  2.37289345e-01,  3.09826333e-10,  9.86478728e-03,\n",
    "#        4.78084599e-10,  1.02943886e-09,  1.13515563e-09,  9.80079093e-10])\n",
    "#concur_fin 0.501865264037816\n"
   ]
  },
  {
   "cell_type": "code",
   "execution_count": 21,
   "metadata": {},
   "outputs": [],
   "source": [
    "\n",
    "def concurance(unent_arry,vecs):\n",
    "    det = np.linalg.det(vecs)\n",
    "    #print(\"det=\", det)\n",
    "    invstrans=np.linalg.pinv(np.transpose(vecs))\n",
    "\n",
    "\n",
    "    unent_arry_inv = np.zeros((8,5), dtype = float)\n",
    "    c_array = np.zeros((8), dtype = float)\n",
    "    for count in range(0,8):\n",
    "        unent_arry_inv[count] = np.matmul(invstrans,unent_arry[count])\n",
    "        c_array[count] = (-1)*(np.dot(unent_arry_inv[count], concurs))\n",
    "    #print(invstrans)\n",
    "    #print(unent_arry_inv)\n",
    "    #print(c_array)\n",
    "\n",
    "    temp = .2 \n",
    "    partit = np.sum(np.exp(-energy/temp))\n",
    "    probs = np.exp(-energy/temp)/partit\n",
    "    probs1 = np.pad(probs, (0,1))\n",
    "    concur_init = np.dot(probs1,concurs)\n",
    "\n",
    "    Au1 = np.transpose(unent_arry_inv)\n",
    "    Au2 = (-1)*np.identity(8)\n",
    "    Aub = np.append(Au1, Au2, axis=0)\n",
    "    bub = np.pad(probs, (0,9))\n",
    "    output = scipy.optimize.linprog(c_array, Aub, bub)\n",
    "    concur_fin = concur_init+output.fun\n",
    "    density_fin1 = probs1 \n",
    "    for count in range(0,5):\n",
    "        density_fin1[count] -= np.dot(output.x, Au1[count])\n",
    "    density_fin2 = output.x\n",
    "    density_fin = np.append(density_fin1, density_fin2)\n",
    "    #print(partit)\n",
    "    print(concur_init,probs,probs1)\n",
    "    #print(concur_fin, density_fin)\n",
    "    print(output)"
   ]
  },
  {
   "cell_type": "code",
   "execution_count": 22,
   "metadata": {},
   "outputs": [],
   "source": [
    "unent_arry_1 = np.array([\n",
    "    [0, 0, 1, 0, 0],\n",
    "    [0, 1, 0, 0, 0],\n",
    "    [1/4, 1/2, 1/4, 0, 1/16],\n",
    "    [1/4, 1/2, 1/4, 0, -1/16],\n",
    "    [1/4, 1/2, 1/4, 1/8, 0],\n",
    "    [1/4, 1/2, 1/4, -1/8, 0],\n",
    "    [1/4, 1/2, 1/4, 1/8, 1/8],\n",
    "    [1/4, 1/2, 1/4, 1/8, -1/8]\n",
    "])\n",
    "\n",
    "vecs_1 = np.array([\n",
    "        [1, 0, 0, 0, 0],\n",
    "        [0, 1, 0, 0.25, 0],\n",
    "        [0, beta**2, alpha**2, beta**2/4, alpha*beta/(2*np.sqrt(2))],\n",
    "        [0, alpha**2, beta**2, alpha**2/4, -alpha*beta/(2*np.sqrt(2))],\n",
    "        [1, 0, 0, 0, 0]\n",
    "    ], dtype=np.float64)"
   ]
  },
  {
   "cell_type": "code",
   "execution_count": 33,
   "metadata": {},
   "outputs": [],
   "source": [
    "unent_arry_2 = np.array([\n",
    "    [1, 0, 0, 0, 0],\n",
    "    [0, 1, 0, 0, 0],\n",
    "    [1/4, 1/2, 1/4, 0, 1/16],\n",
    "    [1/4, 1/2, 1/4, 0, -1/16],\n",
    "    [1/4, 1/2, 1/4, 1/8, 0],\n",
    "    [1/4, 1/2, 1/4, -1/8, 0],\n",
    "    [1/4, 1/2, 1/4, 1/8, 1/8],\n",
    "    [1/4, 1/2, 1/4, 1/8, -1/8]\n",
    "])\n",
    "\n",
    "vecs_2 = np.array([\n",
    "        [1, 0, 0, 0, 0],\n",
    "        [0, 1, 0, 0.25, 0],\n",
    "        [0, beta**2, alpha**2, beta**2/4, alpha*beta/(2*np.sqrt(2))],\n",
    "        [0, alpha**2, beta**2, alpha**2/4, -alpha*beta/(2*np.sqrt(2))],\n",
    "        [0, 0, 1, 0, 0]\n",
    "    ], dtype=np.float64)"
   ]
  },
  {
   "cell_type": "code",
   "execution_count": null,
   "metadata": {},
   "outputs": [],
   "source": [
    "unent_arry_3 = np.array([\n",
    "    [1, 0, 0, 0, 0],\n",
    "    [0, 0, 1, 0, 0],\n",
    "    [1/4, 1/2, 1/4, 0, 1/16],\n",
    "    [1/4, 1/2, 1/4, 0, -1/16],\n",
    "    [1/4, 1/2, 1/4, 1/8, 0],\n",
    "    [1/4, 1/2, 1/4, -1/8, 0],\n",
    "    [1/4, 1/2, 1/4, 1/8, 1/8],\n",
    "    [1/4, 1/2, 1/4, 1/8, -1/8]\n",
    "])\n",
    "\n",
    "vecs_3 = np.array([\n",
    "        [1, 0, 0, 0, 0],\n",
    "        [0, 1, 0, 0.25, 0],\n",
    "        [0, beta**2, alpha**2, beta**2/4, alpha*beta/(2*np.sqrt(2))],\n",
    "        [0, alpha**2, beta**2, alpha**2/4, -alpha*beta/(2*np.sqrt(2))],\n",
    "        [0, 1, 0, 0, 0]\n",
    "    ], dtype=np.float64)"
   ]
  },
  {
   "cell_type": "code",
   "execution_count": 36,
   "metadata": {},
   "outputs": [],
   "source": [
    "unent_arry_4 = np.array([\n",
    "    [0, 1, 0, 0, 0],\n",
    "    [0, 0, 1, 0, 0],\n",
    "    [1/4, 1/2, 1/4, 0, 1/16],\n",
    "    [1/4, 1/2, 1/4, 0, -1/16],\n",
    "    [1/4, 1/2, 1/4, 1/8, 0],\n",
    "    [1/4, 1/2, 1/4, -1/8, 0],\n",
    "    [1, 0, 0, 0, 0],\n",
    "    [1/4, 1/2, 1/4, 1/8, -1/8]\n",
    "    \n",
    "])\n",
    "\n",
    "vecs_4 = np.array([\n",
    "        [1, 0, 0, 0, 0],\n",
    "        [0, 1, 0, 0.25, 0],\n",
    "        [0, beta**2, alpha**2, beta**2/4, alpha*beta/(2*np.sqrt(2))],\n",
    "        [0, alpha**2, beta**2, alpha**2/4, -alpha*beta/(2*np.sqrt(2))],\n",
    "        [1/4, 1/2, 1/4, 1/8, 1/8]\n",
    "    ], dtype=np.float64)"
   ]
  },
  {
   "cell_type": "code",
   "execution_count": 37,
   "metadata": {},
   "outputs": [
    {
     "data": {
      "text/plain": [
       "'\\n#unent_arry_1 = np.array([[0,0,0,0,1],[1/4,1/8,1/8,0,3/4],[1/4,-1/8,1/8,0,3/4],[1/4,1/24,-1/24,0,3/4], [1/4,-1/24,-1/24,0,3/4],[1/4,0,0,1/24,3/4],[1/4,0,0,-1/24,3/4]])\\n#vecs_1 = np.array([[.9974,.0146,.0004,0,.0026],[.0026 ,-.0146,.1662,0,.9974], [0,0,-.0833, .1443,1], [0,0,-.0833, -.1443,1], [1,0,0,0,0]])\\n\\nunent_arry_2 = np.array([[1,0,0,0,0],[1/4,1/8,1/8,0,3/4],[1/4,-1/8,1/8,0,3/4],[1/4,1/24,-1/24,0,3/4], [1/4,-1/24,-1/24,0,3/4],[1/4,0,0,1/24,3/4],[1/4,0,0,-1/24,3/4]])\\nvecs_2 = np.array([[.9974,.0146,.0004,0,.0026],[.0026 ,-.0146,.1662,0,.9974], [0,0,-.0833, .1443,1], [0,0,-.0833, -.1443,1], [0,0,0,0,1]])\\n\\nunent_arry_3 = np.array([[0,0,0,0,1],[1,0,0,0,0],[1/4,-1/8,1/8,0,3/4],[1/4,1/24,-1/24,0,3/4], [1/4,-1/24,-1/24,0,3/4],[1/4,0,0,1/24,3/4],[1/4,0,0,-1/24,3/4]])\\nvecs_3 = np.array([[.9974,.0146,.0004,0,.0026],[.0026 ,-.0146,.1662,0,.9974], [0,0,-.0833, .1443,1], [0,0,-.0833, -.1443,1], [1/4,1/8,1/8,0,3/4]])\\n\\nunent_arry_4 = np.array([[0,0,0,0,1],[1/4,1/8,1/8,0,3/4],[1,0,0,0,0],[1/4,1/24,-1/24,0,3/4], [1/4,-1/24,-1/24,0,3/4],[1/4,0,0,1/24,3/4],[1/4,0,0,-1/24,3/4]])\\nvecs_4 = np.array([[.9974,.0146,.0004,0,.0026],[.0026 ,-.0146,.1662,0,.9974], [0,0,-.0833, .1443,1], [0,0,-.0833, -.1443,1], [1/4,-1/8,1/8,0,3/4]])\\n\\nunent_arry_5 = np.array([[0,0,0,0,1],[1/4,1/8,1/8,0,3/4],[1/4,-1/8,1/8,0,3/4],[1,0,0,0,0], [1/4,-1/24,-1/24,0,3/4],[1/4,0,0,1/24,3/4],[1/4,0,0,-1/24,3/4]])\\nvecs_5 = np.array([[.9974,.0146,.0004,0,.0026],[.0026 ,-.0146,.1662,0,.9974], [0,0,-.0833, .1443,1], [0,0,-.0833, -.1443,1], [1/4,1/24,-1/24,0,3/4]])\\n\\nunent_arry_6 = np.array([[0,0,0,0,1],[1/4,1/8,1/8,0,3/4],[1/4,-1/8,1/8,0,3/4],[1/4,1/24,-1/24,0,3/4], [1,0,0,0,0],[1/4,0,0,1/24,3/4],[1/4,0,0,-1/24,3/4]])\\nvecs_6 = np.array([[.9974,.0146,.0004,0,.0026],[.0026 ,-.0146,.1662,0,.9974], [0,0,-.0833, .1443,1], [0,0,-.0833, -.1443,1], [1/4,-1/24,-1/24,0,3/4]])\\n\\nunent_arry_7 = np.array([[0,0,0,0,1],[1/4,1/8,1/8,0,3/4],[1/4,-1/8,1/8,0,3/4],[1/4,1/24,-1/24,0,3/4], [1/4,-1/24,-1/24,0,3/4],[1,0,0,0,0],[1/4,0,0,-1/24,3/4]])\\nvecs_7 = np.array([[.9974,.0146,.0004,0,.0026],[.0026 ,-.0146,.1662,0,.9974], [0,0,-.0833, .1443,1], [0,0,-.0833, -.1443,1], [1/4,0,0,1/24,3/4]])\\n\\nunent_arry_8 = np.array([[0,0,0,0,1],[1/4,1/8,1/8,0,3/4],[1/4,-1/8,1/8,0,3/4],[1/4,1/24,-1/24,0,3/4], [1/4,-1/24,-1/24,0,3/4],[1/4,0,0,1/24,3/4],[1,0,0,0,0]])\\nvecs_8 = np.array([[.9974,.0146,.0004,0,.0026],[.0026 ,-.0146,.1662,0,.9974], [0,0,-.0833, .1443,1], [0,0,-.0833, -.1443,1], [1/4,0,0,-1/24,3/4]])\\n'"
      ]
     },
     "execution_count": 37,
     "metadata": {},
     "output_type": "execute_result"
    }
   ],
   "source": [
    "'''\n",
    "#unent_arry_1 = np.array([[0,0,0,0,1],[1/4,1/8,1/8,0,3/4],[1/4,-1/8,1/8,0,3/4],[1/4,1/24,-1/24,0,3/4], [1/4,-1/24,-1/24,0,3/4],[1/4,0,0,1/24,3/4],[1/4,0,0,-1/24,3/4]])\n",
    "#vecs_1 = np.array([[.9974,.0146,.0004,0,.0026],[.0026 ,-.0146,.1662,0,.9974], [0,0,-.0833, .1443,1], [0,0,-.0833, -.1443,1], [1,0,0,0,0]])\n",
    "\n",
    "unent_arry_2 = np.array([[1,0,0,0,0],[1/4,1/8,1/8,0,3/4],[1/4,-1/8,1/8,0,3/4],[1/4,1/24,-1/24,0,3/4], [1/4,-1/24,-1/24,0,3/4],[1/4,0,0,1/24,3/4],[1/4,0,0,-1/24,3/4]])\n",
    "vecs_2 = np.array([[.9974,.0146,.0004,0,.0026],[.0026 ,-.0146,.1662,0,.9974], [0,0,-.0833, .1443,1], [0,0,-.0833, -.1443,1], [0,0,0,0,1]])\n",
    "\n",
    "unent_arry_3 = np.array([[0,0,0,0,1],[1,0,0,0,0],[1/4,-1/8,1/8,0,3/4],[1/4,1/24,-1/24,0,3/4], [1/4,-1/24,-1/24,0,3/4],[1/4,0,0,1/24,3/4],[1/4,0,0,-1/24,3/4]])\n",
    "vecs_3 = np.array([[.9974,.0146,.0004,0,.0026],[.0026 ,-.0146,.1662,0,.9974], [0,0,-.0833, .1443,1], [0,0,-.0833, -.1443,1], [1/4,1/8,1/8,0,3/4]])\n",
    "\n",
    "unent_arry_4 = np.array([[0,0,0,0,1],[1/4,1/8,1/8,0,3/4],[1,0,0,0,0],[1/4,1/24,-1/24,0,3/4], [1/4,-1/24,-1/24,0,3/4],[1/4,0,0,1/24,3/4],[1/4,0,0,-1/24,3/4]])\n",
    "vecs_4 = np.array([[.9974,.0146,.0004,0,.0026],[.0026 ,-.0146,.1662,0,.9974], [0,0,-.0833, .1443,1], [0,0,-.0833, -.1443,1], [1/4,-1/8,1/8,0,3/4]])\n",
    "\n",
    "unent_arry_5 = np.array([[0,0,0,0,1],[1/4,1/8,1/8,0,3/4],[1/4,-1/8,1/8,0,3/4],[1,0,0,0,0], [1/4,-1/24,-1/24,0,3/4],[1/4,0,0,1/24,3/4],[1/4,0,0,-1/24,3/4]])\n",
    "vecs_5 = np.array([[.9974,.0146,.0004,0,.0026],[.0026 ,-.0146,.1662,0,.9974], [0,0,-.0833, .1443,1], [0,0,-.0833, -.1443,1], [1/4,1/24,-1/24,0,3/4]])\n",
    "\n",
    "unent_arry_6 = np.array([[0,0,0,0,1],[1/4,1/8,1/8,0,3/4],[1/4,-1/8,1/8,0,3/4],[1/4,1/24,-1/24,0,3/4], [1,0,0,0,0],[1/4,0,0,1/24,3/4],[1/4,0,0,-1/24,3/4]])\n",
    "vecs_6 = np.array([[.9974,.0146,.0004,0,.0026],[.0026 ,-.0146,.1662,0,.9974], [0,0,-.0833, .1443,1], [0,0,-.0833, -.1443,1], [1/4,-1/24,-1/24,0,3/4]])\n",
    "\n",
    "unent_arry_7 = np.array([[0,0,0,0,1],[1/4,1/8,1/8,0,3/4],[1/4,-1/8,1/8,0,3/4],[1/4,1/24,-1/24,0,3/4], [1/4,-1/24,-1/24,0,3/4],[1,0,0,0,0],[1/4,0,0,-1/24,3/4]])\n",
    "vecs_7 = np.array([[.9974,.0146,.0004,0,.0026],[.0026 ,-.0146,.1662,0,.9974], [0,0,-.0833, .1443,1], [0,0,-.0833, -.1443,1], [1/4,0,0,1/24,3/4]])\n",
    "\n",
    "unent_arry_8 = np.array([[0,0,0,0,1],[1/4,1/8,1/8,0,3/4],[1/4,-1/8,1/8,0,3/4],[1/4,1/24,-1/24,0,3/4], [1/4,-1/24,-1/24,0,3/4],[1/4,0,0,1/24,3/4],[1,0,0,0,0]])\n",
    "vecs_8 = np.array([[.9974,.0146,.0004,0,.0026],[.0026 ,-.0146,.1662,0,.9974], [0,0,-.0833, .1443,1], [0,0,-.0833, -.1443,1], [1/4,0,0,-1/24,3/4]])\n",
    "'''"
   ]
  },
  {
   "cell_type": "code",
   "execution_count": 38,
   "metadata": {},
   "outputs": [
    {
     "name": "stdout",
     "output_type": "stream",
     "text": [
      "0.31132783389491075 [0.00504303 0.13006138 0.79017477 0.07472083] [5.04302702e-03 0.00000000e+00 7.15453938e-01 1.16573418e-15\n",
      " 0.00000000e+00]\n",
      "        message: Optimization terminated successfully. (HiGHS Status 7: Optimal)\n",
      "        success: True\n",
      "         status: 0\n",
      "            fun: -0.1871210433999966\n",
      "              x: [ 7.472e-02  2.176e-01  0.000e+00  0.000e+00  0.000e+00\n",
      "                   0.000e+00 -0.000e+00  0.000e+00]\n",
      "            nit: 0\n",
      "          lower:  residual: [ 7.472e-02  2.176e-01  0.000e+00  0.000e+00\n",
      "                              0.000e+00  0.000e+00 -0.000e+00  0.000e+00]\n",
      "                 marginals: [ 0.000e+00  0.000e+00  2.047e-01  6.142e-01\n",
      "                              4.094e-01  4.094e-01  0.000e+00  8.189e-01]\n",
      "          upper:  residual: [       inf        inf        inf        inf\n",
      "                                    inf        inf        inf        inf]\n",
      "                 marginals: [ 0.000e+00  0.000e+00  0.000e+00  0.000e+00\n",
      "                              0.000e+00  0.000e+00  0.000e+00  0.000e+00]\n",
      "          eqlin:  residual: []\n",
      "                 marginals: []\n",
      "        ineqlin:  residual: [ 5.043e-03  0.000e+00 ...  0.000e+00\n",
      "                              0.000e+00]\n",
      "                 marginals: [-0.000e+00 -1.000e+00 ... -0.000e+00\n",
      "                             -0.000e+00]\n",
      " mip_node_count: 0\n",
      " mip_dual_bound: 0.0\n",
      "        mip_gap: 0.0\n"
     ]
    }
   ],
   "source": [
    "concurance(unent_arry_1,vecs_1)\n",
    "\n",
    "\n"
   ]
  },
  {
   "cell_type": "code",
   "execution_count": 39,
   "metadata": {},
   "outputs": [
    {
     "name": "stdout",
     "output_type": "stream",
     "text": [
      "0.31132783389491075 [0.00504303 0.13006138 0.79017477 0.07472083] [0.         0.         0.76050104 0.         0.02566683]\n",
      "        message: Optimization terminated successfully. (HiGHS Status 7: Optimal)\n",
      "        success: True\n",
      "         status: 0\n",
      "            fun: -0.17930061593423782\n",
      "              x: [ 0.000e+00  2.058e-01  0.000e+00  0.000e+00  0.000e+00\n",
      "                   1.072e-03  0.000e+00  1.910e-02]\n",
      "            nit: 5\n",
      "          lower:  residual: [ 0.000e+00  2.058e-01  0.000e+00  0.000e+00\n",
      "                              0.000e+00  1.072e-03  0.000e+00  1.910e-02]\n",
      "                 marginals: [ 8.781e-02  0.000e+00  1.110e-16 -8.327e-17\n",
      "                             -5.551e-17  0.000e+00  4.441e-16  0.000e+00]\n",
      "          upper:  residual: [       inf        inf        inf        inf\n",
      "                                    inf        inf        inf        inf]\n",
      "                 marginals: [ 0.000e+00  0.000e+00  0.000e+00  0.000e+00\n",
      "                              0.000e+00  0.000e+00  0.000e+00  0.000e+00]\n",
      "          eqlin:  residual: []\n",
      "                 marginals: []\n",
      "        ineqlin:  residual: [ 0.000e+00  0.000e+00 ...  0.000e+00\n",
      "                              1.910e-02]\n",
      "                 marginals: [-8.781e-02 -1.088e+00 ... -0.000e+00\n",
      "                             -0.000e+00]\n",
      " mip_node_count: 0\n",
      " mip_dual_bound: 0.0\n",
      "        mip_gap: 0.0\n"
     ]
    }
   ],
   "source": [
    "concurance(unent_arry_2,vecs_2)\n",
    "\n"
   ]
  },
  {
   "cell_type": "code",
   "execution_count": 40,
   "metadata": {},
   "outputs": [
    {
     "name": "stdout",
     "output_type": "stream",
     "text": [
      "0.31132783389491075 [0.00504303 0.13006138 0.79017477 0.07472083] [0.00000000e+00 7.96311109e-02 7.84037449e-01 1.16159332e-01\n",
      " 3.33972353e-17]\n",
      "        message: Optimization terminated successfully. (HiGHS Status 7: Optimal)\n",
      "        success: True\n",
      "         status: 0\n",
      "            fun: -0.02704568078834433\n",
      "              x: [ 0.000e+00  0.000e+00  0.000e+00  0.000e+00  0.000e+00\n",
      "                   0.000e+00  2.017e-02  0.000e+00]\n",
      "            nit: 0\n",
      "          lower:  residual: [ 0.000e+00  0.000e+00  0.000e+00  0.000e+00\n",
      "                              0.000e+00  0.000e+00  2.017e-02  0.000e+00]\n",
      "                 marginals: [ 5.363e+00  2.364e-01  9.499e-01  1.850e+00\n",
      "                              8.998e-01  1.900e+00  0.000e+00  1.800e+00]\n",
      "          upper:  residual: [       inf        inf        inf        inf\n",
      "                                    inf        inf        inf        inf]\n",
      "                 marginals: [ 0.000e+00  0.000e+00  0.000e+00  0.000e+00\n",
      "                              0.000e+00  0.000e+00  0.000e+00  0.000e+00]\n",
      "          eqlin:  residual: []\n",
      "                 marginals: []\n",
      "        ineqlin:  residual: [ 0.000e+00  7.963e-02 ...  2.017e-02\n",
      "                              0.000e+00]\n",
      "                 marginals: [-5.363e+00 -0.000e+00 ... -0.000e+00\n",
      "                             -0.000e+00]\n",
      " mip_node_count: 0\n",
      " mip_dual_bound: 0.0\n",
      "        mip_gap: 0.0\n"
     ]
    }
   ],
   "source": [
    "concurance(unent_arry_3,vecs_3)"
   ]
  },
  {
   "cell_type": "code",
   "execution_count": 41,
   "metadata": {},
   "outputs": [
    {
     "name": "stdout",
     "output_type": "stream",
     "text": [
      "0.31132783389491075 [0.00504303 0.13006138 0.79017477 0.07472083] [-1.73472348e-18  8.11560713e-02  6.91666027e-01  0.00000000e+00\n",
      "  0.00000000e+00]\n",
      "        message: Optimization terminated successfully. (HiGHS Status 7: Optimal)\n",
      "        success: True\n",
      "         status: 0\n",
      "            fun: -0.11009468598215434\n",
      "              x: [ 1.218e-01  9.292e-02  2.017e-02  0.000e+00  0.000e+00\n",
      "                   0.000e+00  0.000e+00  0.000e+00]\n",
      "            nit: 4\n",
      "          lower:  residual: [ 1.218e-01  9.292e-02  2.017e-02  0.000e+00\n",
      "                              0.000e+00  0.000e+00  0.000e+00  0.000e+00]\n",
      "                 marginals: [ 0.000e+00  0.000e+00  0.000e+00  1.224e-01\n",
      "                              6.121e-02  6.121e-02  2.448e-01  1.836e-01]\n",
      "          upper:  residual: [       inf        inf        inf        inf\n",
      "                                    inf        inf        inf        inf]\n",
      "                 marginals: [ 0.000e+00  0.000e+00  0.000e+00  0.000e+00\n",
      "                              0.000e+00  0.000e+00  0.000e+00  0.000e+00]\n",
      "          eqlin:  residual: []\n",
      "                 marginals: []\n",
      "        ineqlin:  residual: [ 0.000e+00  8.116e-02 ...  0.000e+00\n",
      "                              0.000e+00]\n",
      "                 marginals: [-1.448e-01 -0.000e+00 ... -0.000e+00\n",
      "                             -0.000e+00]\n",
      " mip_node_count: 0\n",
      " mip_dual_bound: 0.0\n",
      "        mip_gap: 0.0\n"
     ]
    }
   ],
   "source": [
    "concurance(unent_arry_4,vecs_4)"
   ]
  },
  {
   "cell_type": "code",
   "execution_count": 107,
   "metadata": {},
   "outputs": [
    {
     "name": "stdout",
     "output_type": "stream",
     "text": [
      "0.5335109441470559 [ 6.50521303e-19  6.00305606e-02  1.93116447e-01  5.47158167e-01\n",
      " -4.59214216e-18  1.91724305e-01  0.00000000e+00  7.97051999e-03\n",
      "  0.00000000e+00  0.00000000e+00  0.00000000e+00  0.00000000e+00]\n"
     ]
    }
   ],
   "source": [
    "concurance(unent_arry_5,vecs_5)"
   ]
  },
  {
   "cell_type": "code",
   "execution_count": 108,
   "metadata": {},
   "outputs": [
    {
     "name": "stdout",
     "output_type": "stream",
     "text": [
      "0.533510944147056 [-4.33680869e-19  6.00305606e-02  1.93116447e-01  5.47158167e-01\n",
      "  3.81723105e-19  1.91724305e-01  0.00000000e+00  7.97051999e-03\n",
      "  0.00000000e+00  0.00000000e+00  0.00000000e+00  0.00000000e+00]\n"
     ]
    }
   ],
   "source": [
    "concurance(unent_arry_6,vecs_6)"
   ]
  },
  {
   "cell_type": "code",
   "execution_count": 109,
   "metadata": {},
   "outputs": [],
   "source": [
    "#concurance(unent_arry_7,vecs_7)\n",
    "#concurance(unent_arry_8,vecs_8)"
   ]
  },
  {
   "cell_type": "code",
   "execution_count": null,
   "metadata": {},
   "outputs": [],
   "source": []
  },
  {
   "cell_type": "code",
   "execution_count": null,
   "metadata": {},
   "outputs": [],
   "source": []
  }
 ],
 "metadata": {
  "kernelspec": {
   "display_name": "cwq",
   "language": "python",
   "name": "python3"
  },
  "language_info": {
   "codemirror_mode": {
    "name": "ipython",
    "version": 3
   },
   "file_extension": ".py",
   "mimetype": "text/x-python",
   "name": "python",
   "nbconvert_exporter": "python",
   "pygments_lexer": "ipython3",
   "version": "3.12.4"
  }
 },
 "nbformat": 4,
 "nbformat_minor": 2
}
