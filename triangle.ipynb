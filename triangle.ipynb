{
 "cells": [
  {
   "cell_type": "code",
   "execution_count": null,
   "metadata": {},
   "outputs": [],
   "source": []
  },
  {
   "cell_type": "code",
   "execution_count": 124,
   "metadata": {},
   "outputs": [
    {
     "name": "stdout",
     "output_type": "stream",
     "text": [
      "EigResult(eigenvalues=array([ 0.75220019, -0.10220019]), eigenvectors=array([[ 0.99871161,  0.05074568],\n",
      "       [-0.05074568,  0.99871161]])) 0.9987116078145658 0.050745683722313806\n"
     ]
    }
   ],
   "source": [
    "# Use python3\n",
    "\n",
    "\n",
    "j1 = 1.0\n",
    "j4 = 0.1\n",
    "j3 = 0.2\n",
    "j2 = 0.1\n",
    "\n",
    "e3 = -(j1+j2+j3)/4 + np.sqrt(3)*j4/2\n",
    "e4 = -(j1+j2+j3)/4 - np.sqrt(3)*j4/2\n",
    "ematrix = np.array([[3*j1/4, np.sqrt(3)*(j2-j3)/4],[np.sqrt(3)*(j2-j3)/4, -j1/4+j2/2 + j3/2]])\n",
    "evals = np.linalg.eig(ematrix)\n",
    "energy = np.array([evals[0][0], evals[0][1],e3,e4])\n",
    "alpha = evals[1][0][0]\n",
    "beta = evals[1][0][1]\n",
    "c1 = np.sqrt(2/3)*np.abs(beta)*np.sqrt(1 - (beta**2)/3)\n",
    "c2 = np.sqrt(2/3)*np.abs(alpha)*np.sqrt(1-(alpha**2)/3)\n",
    "concurs = np.array([c1,c2,2/3,2/3,0])\n",
    "print (evals,alpha,beta)\n",
    "\n",
    "#quit()\n",
    "\n",
    "\n",
    "\n",
    "\n",
    "#sample output for T = .2 is \n",
    "#density_fin\n",
    "#array([-2.46020284e-09,  7.42972817e-02,  5.09902820e-01,  1.68645764e-01,\n",
    "#        1.77262352e-10,  2.37289345e-01,  3.09826333e-10,  9.86478728e-03,\n",
    "#        4.78084599e-10,  1.02943886e-09,  1.13515563e-09,  9.80079093e-10])\n",
    "#concur_fin 0.501865264037816\n"
   ]
  },
  {
   "cell_type": "code",
   "execution_count": 125,
   "metadata": {},
   "outputs": [],
   "source": [
    "\n",
    "def concurance(unent_arry,vecs):\n",
    "    det = np.linalg.det(vecs)\n",
    "    #print(\"det=\", det)\n",
    "    invstrans=np.linalg.inv(np.transpose(vecs))\n",
    "\n",
    "\n",
    "    unent_arry_inv = np.zeros((7,5), dtype = float)\n",
    "    c_array = np.zeros((7), dtype = float)\n",
    "    for count in range(0,7):\n",
    "        unent_arry_inv[count] = np.matmul(invstrans,unent_arry[count])\n",
    "        c_array[count] = (-1)*(np.dot(unent_arry_inv[count], concurs))\n",
    "    #print(invstrans)\n",
    "    #print(unent_arry_inv)\n",
    "    #print(c_array)\n",
    "\n",
    "    temp = .2 \n",
    "    partit = np.sum(np.exp(-energy/temp))\n",
    "    probs = np.exp(-energy/temp)/partit\n",
    "    probs1 = np.pad(probs, (0,1))\n",
    "    concur_init = np.dot(probs1,concurs)\n",
    "\n",
    "    Au1 = np.transpose(unent_arry_inv)\n",
    "    Au2 = (-1)*np.identity(7)\n",
    "    Aub = np.append(Au1, Au2, axis=0)\n",
    "    bub = np.pad(probs, (0,8))\n",
    "    output = scipy.optimize.linprog(c_array, Aub, bub)\n",
    "    concur_fin = concur_init+output.fun\n",
    "    density_fin1 = probs1 \n",
    "    for count in range(0,5):\n",
    "        density_fin1[count] -= np.dot(output.x, Au1[count])\n",
    "    density_fin2 = output.x\n",
    "    density_fin = np.append(density_fin1, density_fin2)\n",
    "    #print(partit)\n",
    "    print(concur_init,probs,probs1)\n",
    "    #print(concur_fin, density_fin)\n",
    "    print(output)"
   ]
  },
  {
   "cell_type": "code",
   "execution_count": 126,
   "metadata": {},
   "outputs": [],
   "source": [
    "unent_arry_1 = np.array([[0,0,0,0,1],[1/4,1/8,1/8,0,3/4],[1/4,-1/8,1/8,0,3/4],[1/4,1/24,-1/24,0,3/4], [1/4,-1/24,-1/24,0,3/4],[1/4,0,0,1/24,3/4],[1/4,0,0,-1/24,3/4]])\n",
    "vecs_1 = np.array([[.9974,.0146,.0004,0,.0026],[.0026 ,-.0146,.1662,0,.9974], [0,0,-.0833, .1443,1], [0,0,-.0833, -.1443,1], [1,0,0,0,0]])\n",
    "\n",
    "unent_arry_2 = np.array([[1,0,0,0,0],[1/4,1/8,1/8,0,3/4],[1/4,-1/8,1/8,0,3/4],[1/4,1/24,-1/24,0,3/4], [1/4,-1/24,-1/24,0,3/4],[1/4,0,0,1/24,3/4],[1/4,0,0,-1/24,3/4]])\n",
    "vecs_2 = np.array([[.9974,.0146,.0004,0,.0026],[.0026 ,-.0146,.1662,0,.9974], [0,0,-.0833, .1443,1], [0,0,-.0833, -.1443,1], [0,0,0,0,1]])\n",
    "\n",
    "unent_arry_3 = np.array([[0,0,0,0,1],[1,0,0,0,0],[1/4,-1/8,1/8,0,3/4],[1/4,1/24,-1/24,0,3/4], [1/4,-1/24,-1/24,0,3/4],[1/4,0,0,1/24,3/4],[1/4,0,0,-1/24,3/4]])\n",
    "vecs_3 = np.array([[.9974,.0146,.0004,0,.0026],[.0026 ,-.0146,.1662,0,.9974], [0,0,-.0833, .1443,1], [0,0,-.0833, -.1443,1], [1/4,1/8,1/8,0,3/4]])\n",
    "\n",
    "unent_arry_4 = np.array([[0,0,0,0,1],[1/4,1/8,1/8,0,3/4],[1,0,0,0,0],[1/4,1/24,-1/24,0,3/4], [1/4,-1/24,-1/24,0,3/4],[1/4,0,0,1/24,3/4],[1/4,0,0,-1/24,3/4]])\n",
    "vecs_4 = np.array([[.9974,.0146,.0004,0,.0026],[.0026 ,-.0146,.1662,0,.9974], [0,0,-.0833, .1443,1], [0,0,-.0833, -.1443,1], [1/4,-1/8,1/8,0,3/4]])\n",
    "\n",
    "unent_arry_5 = np.array([[0,0,0,0,1],[1/4,1/8,1/8,0,3/4],[1/4,-1/8,1/8,0,3/4],[1,0,0,0,0], [1/4,-1/24,-1/24,0,3/4],[1/4,0,0,1/24,3/4],[1/4,0,0,-1/24,3/4]])\n",
    "vecs_5 = np.array([[.9974,.0146,.0004,0,.0026],[.0026 ,-.0146,.1662,0,.9974], [0,0,-.0833, .1443,1], [0,0,-.0833, -.1443,1], [1/4,1/24,-1/24,0,3/4]])\n",
    "\n",
    "unent_arry_6 = np.array([[0,0,0,0,1],[1/4,1/8,1/8,0,3/4],[1/4,-1/8,1/8,0,3/4],[1/4,1/24,-1/24,0,3/4], [1,0,0,0,0],[1/4,0,0,1/24,3/4],[1/4,0,0,-1/24,3/4]])\n",
    "vecs_6 = np.array([[.9974,.0146,.0004,0,.0026],[.0026 ,-.0146,.1662,0,.9974], [0,0,-.0833, .1443,1], [0,0,-.0833, -.1443,1], [1/4,-1/24,-1/24,0,3/4]])\n",
    "\n",
    "unent_arry_7 = np.array([[0,0,0,0,1],[1/4,1/8,1/8,0,3/4],[1/4,-1/8,1/8,0,3/4],[1/4,1/24,-1/24,0,3/4], [1/4,-1/24,-1/24,0,3/4],[1,0,0,0,0],[1/4,0,0,-1/24,3/4]])\n",
    "vecs_7 = np.array([[.9974,.0146,.0004,0,.0026],[.0026 ,-.0146,.1662,0,.9974], [0,0,-.0833, .1443,1], [0,0,-.0833, -.1443,1], [1/4,0,0,1/24,3/4]])\n",
    "\n",
    "unent_arry_8 = np.array([[0,0,0,0,1],[1/4,1/8,1/8,0,3/4],[1/4,-1/8,1/8,0,3/4],[1/4,1/24,-1/24,0,3/4], [1/4,-1/24,-1/24,0,3/4],[1/4,0,0,1/24,3/4],[1,0,0,0,0]])\n",
    "vecs_8 = np.array([[.9974,.0146,.0004,0,.0026],[.0026 ,-.0146,.1662,0,.9974], [0,0,-.0833, .1443,1], [0,0,-.0833, -.1443,1], [1/4,0,0,-1/24,3/4]])\n"
   ]
  },
  {
   "cell_type": "code",
   "execution_count": 127,
   "metadata": {},
   "outputs": [
    {
     "name": "stdout",
     "output_type": "stream",
     "text": [
      "0.6654757155892923 [0.0018152  0.13008652 0.25702828 0.61107   ] [ 8.67361738e-19  6.00305606e-02  1.93116447e-01  5.47158167e-01\n",
      " -6.32956903e-18]\n",
      "        message: Optimization terminated successfully. (HiGHS Status 7: Optimal)\n",
      "        success: True\n",
      "         status: 0\n",
      "            fun: -0.13196477144223698\n",
      "              x: [ 1.917e-01  0.000e+00  7.971e-03  0.000e+00  0.000e+00\n",
      "                   0.000e+00  0.000e+00]\n",
      "            nit: 9\n",
      "          lower:  residual: [ 1.917e-01  0.000e+00  7.971e-03  0.000e+00\n",
      "                              0.000e+00  0.000e+00  0.000e+00]\n",
      "                 marginals: [ 0.000e+00  3.733e+01  0.000e+00  2.355e+01\n",
      "                              1.111e+01  1.766e+01  1.766e+01]\n",
      "          upper:  residual: [       inf        inf        inf        inf\n",
      "                                    inf        inf        inf]\n",
      "                 marginals: [ 0.000e+00  0.000e+00  0.000e+00  0.000e+00\n",
      "                              0.000e+00  0.000e+00  0.000e+00]\n",
      "          eqlin:  residual: []\n",
      "                 marginals: []\n",
      "        ineqlin:  residual: [ 0.000e+00  6.003e-02  1.931e-01  5.472e-01\n",
      "                              0.000e+00  1.917e-01  0.000e+00  7.971e-03\n",
      "                              0.000e+00  0.000e+00  0.000e+00  0.000e+00]\n",
      "                 marginals: [-7.270e+01 -0.000e+00 -0.000e+00 -0.000e+00\n",
      "                             -7.066e+01 -0.000e+00 -0.000e+00 -0.000e+00\n",
      "                             -0.000e+00 -0.000e+00 -0.000e+00 -0.000e+00]\n",
      " mip_node_count: 0\n",
      " mip_dual_bound: 0.0\n",
      "        mip_gap: 0.0\n"
     ]
    }
   ],
   "source": [
    "concurance(unent_arry_1,vecs_1)\n",
    "\n",
    "\n"
   ]
  },
  {
   "cell_type": "code",
   "execution_count": 128,
   "metadata": {},
   "outputs": [
    {
     "name": "stdout",
     "output_type": "stream",
     "text": [
      "0.6654757155892923 [0.0018152  0.13008652 0.25702828 0.61107   ] [-2.16840434e-19  6.00305606e-02  1.93116447e-01  5.47158167e-01\n",
      "  1.91724305e-01]\n",
      "        message: Optimization terminated successfully. (HiGHS Status 7: Optimal)\n",
      "        success: True\n",
      "         status: 0\n",
      "            fun: -0.13196477144223634\n",
      "              x: [ 0.000e+00  0.000e+00  7.971e-03  0.000e+00  0.000e+00\n",
      "                   0.000e+00  0.000e+00]\n",
      "            nit: 0\n",
      "          lower:  residual: [ 0.000e+00  0.000e+00  7.971e-03  0.000e+00\n",
      "                              0.000e+00  0.000e+00  0.000e+00]\n",
      "                 marginals: [ 7.066e+01  3.733e+01  0.000e+00  2.355e+01\n",
      "                              1.111e+01  1.766e+01  1.766e+01]\n",
      "          upper:  residual: [       inf        inf        inf        inf\n",
      "                                    inf        inf        inf]\n",
      "                 marginals: [ 0.000e+00  0.000e+00  0.000e+00  0.000e+00\n",
      "                              0.000e+00  0.000e+00  0.000e+00]\n",
      "          eqlin:  residual: []\n",
      "                 marginals: []\n",
      "        ineqlin:  residual: [ 0.000e+00  6.003e-02  1.931e-01  5.472e-01\n",
      "                              1.917e-01  0.000e+00  0.000e+00  7.971e-03\n",
      "                              0.000e+00  0.000e+00  0.000e+00  0.000e+00]\n",
      "                 marginals: [-7.270e+01 -0.000e+00 -0.000e+00 -0.000e+00\n",
      "                             -0.000e+00 -0.000e+00 -0.000e+00 -0.000e+00\n",
      "                             -0.000e+00 -0.000e+00 -0.000e+00 -0.000e+00]\n",
      " mip_node_count: 0\n",
      " mip_dual_bound: 0.0\n",
      "        mip_gap: 0.0\n"
     ]
    }
   ],
   "source": [
    "concurance(unent_arry_2,vecs_2)\n",
    "\n"
   ]
  },
  {
   "cell_type": "code",
   "execution_count": 129,
   "metadata": {},
   "outputs": [
    {
     "name": "stdout",
     "output_type": "stream",
     "text": [
      "0.6654757155892923 [0.0018152  0.13008652 0.25702828 0.61107   ] [ 0.00000000e+00  6.00305606e-02  1.93116447e-01  5.47158167e-01\n",
      " -6.53837152e-19]\n",
      "        message: Optimization terminated successfully. (HiGHS Status 7: Optimal)\n",
      "        success: True\n",
      "         status: 0\n",
      "            fun: -0.13196477144223628\n",
      "              x: [ 1.917e-01  0.000e+00  7.971e-03  0.000e+00  0.000e+00\n",
      "                   0.000e+00  0.000e+00]\n",
      "            nit: 9\n",
      "          lower:  residual: [ 1.917e-01  0.000e+00  7.971e-03  0.000e+00\n",
      "                              0.000e+00  0.000e+00  0.000e+00]\n",
      "                 marginals: [ 0.000e+00  7.066e+01  0.000e+00  2.355e+01\n",
      "                              1.111e+01  1.766e+01  1.766e+01]\n",
      "          upper:  residual: [       inf        inf        inf        inf\n",
      "                                    inf        inf        inf]\n",
      "                 marginals: [ 0.000e+00  0.000e+00  0.000e+00  0.000e+00\n",
      "                              0.000e+00  0.000e+00  0.000e+00]\n",
      "          eqlin:  residual: []\n",
      "                 marginals: []\n",
      "        ineqlin:  residual: [ 0.000e+00  6.003e-02  1.931e-01  5.472e-01\n",
      "                              0.000e+00  1.917e-01  0.000e+00  7.971e-03\n",
      "                              0.000e+00  0.000e+00  0.000e+00  0.000e+00]\n",
      "                 marginals: [-7.270e+01 -0.000e+00 -0.000e+00 -0.000e+00\n",
      "                             -3.733e+01 -0.000e+00 -0.000e+00 -0.000e+00\n",
      "                             -0.000e+00 -0.000e+00 -0.000e+00 -0.000e+00]\n",
      " mip_node_count: 0\n",
      " mip_dual_bound: 0.0\n",
      "        mip_gap: 0.0\n"
     ]
    }
   ],
   "source": [
    "concurance(unent_arry_3,vecs_3)"
   ]
  },
  {
   "cell_type": "code",
   "execution_count": 106,
   "metadata": {},
   "outputs": [
    {
     "name": "stdout",
     "output_type": "stream",
     "text": [
      "0.533510944147056 [0.         0.06003056 0.19311645 0.54715817 0.00797052 0.19172431\n",
      " 0.         0.         0.         0.         0.         0.        ]\n"
     ]
    }
   ],
   "source": [
    "concurance(unent_arry_4,vecs_4)"
   ]
  },
  {
   "cell_type": "code",
   "execution_count": 107,
   "metadata": {},
   "outputs": [
    {
     "name": "stdout",
     "output_type": "stream",
     "text": [
      "0.5335109441470559 [ 6.50521303e-19  6.00305606e-02  1.93116447e-01  5.47158167e-01\n",
      " -4.59214216e-18  1.91724305e-01  0.00000000e+00  7.97051999e-03\n",
      "  0.00000000e+00  0.00000000e+00  0.00000000e+00  0.00000000e+00]\n"
     ]
    }
   ],
   "source": [
    "concurance(unent_arry_5,vecs_5)"
   ]
  },
  {
   "cell_type": "code",
   "execution_count": 108,
   "metadata": {},
   "outputs": [
    {
     "name": "stdout",
     "output_type": "stream",
     "text": [
      "0.533510944147056 [-4.33680869e-19  6.00305606e-02  1.93116447e-01  5.47158167e-01\n",
      "  3.81723105e-19  1.91724305e-01  0.00000000e+00  7.97051999e-03\n",
      "  0.00000000e+00  0.00000000e+00  0.00000000e+00  0.00000000e+00]\n"
     ]
    }
   ],
   "source": [
    "concurance(unent_arry_6,vecs_6)"
   ]
  },
  {
   "cell_type": "code",
   "execution_count": 109,
   "metadata": {},
   "outputs": [],
   "source": [
    "#concurance(unent_arry_7,vecs_7)\n",
    "#concurance(unent_arry_8,vecs_8)"
   ]
  },
  {
   "cell_type": "code",
   "execution_count": null,
   "metadata": {},
   "outputs": [],
   "source": []
  },
  {
   "cell_type": "code",
   "execution_count": null,
   "metadata": {},
   "outputs": [],
   "source": []
  }
 ],
 "metadata": {
  "kernelspec": {
   "display_name": "base",
   "language": "python",
   "name": "python3"
  },
  "language_info": {
   "codemirror_mode": {
    "name": "ipython",
    "version": 3
   },
   "file_extension": ".py",
   "mimetype": "text/x-python",
   "name": "python",
   "nbconvert_exporter": "python",
   "pygments_lexer": "ipython3",
   "version": "3.12.3"
  }
 },
 "nbformat": 4,
 "nbformat_minor": 2
}
