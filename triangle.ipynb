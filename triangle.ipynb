{
 "cells": [
  {
   "cell_type": "code",
   "execution_count": 8,
   "metadata": {},
   "outputs": [],
   "source": [
    "import numpy as np\n",
    "import scipy"
   ]
  },
  {
   "cell_type": "code",
   "execution_count": 29,
   "metadata": {},
   "outputs": [
    {
     "name": "stdout",
     "output_type": "stream",
     "text": [
      "EigResult(eigenvalues=array([ 0.75, -0.25]), eigenvectors=array([[1., 0.],\n",
      "       [0., 1.]])) 1.0 0.0\n"
     ]
    }
   ],
   "source": [
    "# Use python3\n",
    "\n",
    "\n",
    "j1 = 1.0\n",
    "j4 = 0\n",
    "j3 = -0\n",
    "j2 = -0\n",
    "\n",
    "e3 = -(j1+j2+j3)/4 + np.sqrt(3)*j4/2\n",
    "e4 = -(j1+j2+j3)/4 - np.sqrt(3)*j4/2\n",
    "ematrix = np.array([[3*j1/4, np.sqrt(3)*(j2-j3)/4],[np.sqrt(3)*(j2-j3)/4, -j1/4+j2/2 + j3/2]])\n",
    "evals = np.linalg.eig(ematrix)\n",
    "energy = np.array([evals[0][0], evals[0][1],e3,e4])\n",
    "alpha = evals[1][0][0]\n",
    "beta = evals[1][0][1]\n",
    "c1 = np.sqrt(2/3)*np.abs(beta)*np.sqrt(1 - (beta**2)/3)\n",
    "c2 = np.sqrt(2/3)*np.abs(alpha)*np.sqrt(1-(alpha**2)/3)\n",
    "concurs = np.array([c1,c2,2/3,2/3,0])\n",
    "print (evals,alpha,beta)\n",
    "\n",
    "#quit()\n",
    "\n",
    "\n",
    "\n",
    "\n",
    "#sample output for T = .2 is \n",
    "#density_fin\n",
    "#array([-2.46020284e-09,  7.42972817e-02,  5.09902820e-01,  1.68645764e-01,\n",
    "#        1.77262352e-10,  2.37289345e-01,  3.09826333e-10,  9.86478728e-03,\n",
    "#        4.78084599e-10,  1.02943886e-09,  1.13515563e-09,  9.80079093e-10])\n",
    "#concur_fin 0.501865264037816\n"
   ]
  },
  {
   "cell_type": "code",
   "execution_count": 30,
   "metadata": {},
   "outputs": [],
   "source": [
    "\n",
    "def concurance(unent_arry,vecs):\n",
    "    det = np.linalg.det(vecs)\n",
    "    #print(\"det=\", det)\n",
    "    invstrans=np.linalg.pinv(np.transpose(vecs))\n",
    "\n",
    "\n",
    "    unent_arry_inv = np.zeros((7,5), dtype = float)\n",
    "    c_array = np.zeros((7), dtype = float)\n",
    "    for count in range(0,7):\n",
    "        unent_arry_inv[count] = np.matmul(invstrans,unent_arry[count])\n",
    "        c_array[count] = (-1)*(np.dot(unent_arry_inv[count], concurs))\n",
    "    #print(invstrans)\n",
    "    #print(unent_arry_inv)\n",
    "    #print(c_array)\n",
    "\n",
    "    temp = .01 \n",
    "    partit = np.sum(np.exp(-energy/temp))\n",
    "    probs = np.exp(-energy/temp)/partit\n",
    "    probs1 = np.pad(probs, (0,1))\n",
    "    concur_init = np.dot(probs1,concurs)\n",
    "\n",
    "    Au1 = np.transpose(unent_arry_inv)\n",
    "    Au2 = (-1)*np.identity(7)\n",
    "    Aub = np.append(Au1, Au2, axis=0)\n",
    "    bub = np.pad(probs, (0,8))\n",
    "    output = scipy.optimize.linprog(c_array, Aub, bub)\n",
    "    concur_fin = concur_init+output.fun\n",
    "    density_fin1 = probs1 \n",
    "    for count in range(0,5):\n",
    "        density_fin1[count] -= np.dot(output.x, Au1[count])\n",
    "    density_fin2 = output.x\n",
    "    density_fin = np.append(density_fin1, density_fin2)\n",
    "    #print(partit)\n",
    "    print(concur_init,probs,probs1)\n",
    "    #print(concur_fin, density_fin)\n",
    "    print(output)"
   ]
  },
  {
   "cell_type": "code",
   "execution_count": 31,
   "metadata": {},
   "outputs": [
    {
     "name": "stdout",
     "output_type": "stream",
     "text": [
      "1.0 0.0 [[ 1.          0.          0.          0.          0.        ]\n",
      " [ 0.         -0.          0.16666667  0.          1.        ]\n",
      " [ 0.          0.         -0.0833      0.1443      1.        ]\n",
      " [ 0.          0.         -0.0833     -0.1443      1.        ]\n",
      " [ 1.          0.          0.          0.          0.        ]]\n",
      "[[ 9.974e-01  1.460e-02  4.000e-04  0.000e+00  2.600e-03]\n",
      " [ 2.600e-03 -1.460e-02  1.662e-01  0.000e+00  9.974e-01]\n",
      " [ 0.000e+00  0.000e+00 -8.330e-02  1.443e-01  1.000e+00]\n",
      " [ 0.000e+00  0.000e+00 -8.330e-02 -1.443e-01  1.000e+00]\n",
      " [ 0.000e+00  0.000e+00  0.000e+00  0.000e+00  1.000e+00]]\n"
     ]
    }
   ],
   "source": [
    "unent_arry_1 = np.array([[0,0,0,0,1],[1/4,1/8,1/8,0,3/4],[1/4,-1/8,1/8,0,3/4],[1/4,1/24,-1/24,0,3/4], [1/4,-1/24,-1/24,0,3/4],[1/4,0,0,1/24,3/4],[1/4,0,0,-1/24,3/4]])\n",
    "#vecs_1 = np.array([[.9974,.0146,.0004,0,.0026],[.0026 ,-.0146,.1662,0,.9974], [0,0,-.0833, .1443,1], [0,0,-.0833, -.1443,1], [1,0,0,0,0]])\n",
    "vecs_1 = np.array([[alpha**2,alpha*beta/(2*np.sqrt(3)),beta**2/6,0,beta**2],[beta**2 ,-alpha*beta/(2*np.sqrt(3)),alpha**2/6,0,alpha**2], [0,0,-.0833, .1443,1], [0,0,-.0833, -.1443,1], [1,0,0,0,0]], dtype=np.float64)\n",
    "print(alpha, beta, vecs_1)\n",
    "unent_arry_2 = np.array([[1,0,0,0,0],[1/4,1/8,1/8,0,3/4],[1/4,-1/8,1/8,0,3/4],[1/4,1/24,-1/24,0,3/4], [1/4,-1/24,-1/24,0,3/4],[1/4,0,0,1/24,3/4],[1/4,0,0,-1/24,3/4]])\n",
    "vecs_2 = np.array([[.9974,.0146,.0004,0,.0026],[.0026 ,-.0146,.1662,0,.9974], [0,0,-.0833, .1443,1], [0,0,-.0833, -.1443,1], [0,0,0,0,1]])\n",
    "print(vecs_2)\n",
    "unent_arry_3 = np.array([[0,0,0,0,1],[1,0,0,0,0],[1/4,-1/8,1/8,0,3/4],[1/4,1/24,-1/24,0,3/4], [1/4,-1/24,-1/24,0,3/4],[1/4,0,0,1/24,3/4],[1/4,0,0,-1/24,3/4]])\n",
    "vecs_3 = np.array([[.9974,.0146,.0004,0,.0026],[.0026 ,-.0146,.1662,0,.9974], [0,0,-.0833, .1443,1], [0,0,-.0833, -.1443,1], [1/4,1/8,1/8,0,3/4]])\n",
    "\n",
    "unent_arry_4 = np.array([[0,0,0,0,1],[1/4,1/8,1/8,0,3/4],[1,0,0,0,0],[1/4,1/24,-1/24,0,3/4], [1/4,-1/24,-1/24,0,3/4],[1/4,0,0,1/24,3/4],[1/4,0,0,-1/24,3/4]])\n",
    "vecs_4 = np.array([[.9974,.0146,.0004,0,.0026],[.0026 ,-.0146,.1662,0,.9974], [0,0,-.0833, .1443,1], [0,0,-.0833, -.1443,1], [1/4,-1/8,1/8,0,3/4]])\n",
    "\n",
    "unent_arry_5 = np.array([[0,0,0,0,1],[1/4,1/8,1/8,0,3/4],[1/4,-1/8,1/8,0,3/4],[1,0,0,0,0], [1/4,-1/24,-1/24,0,3/4],[1/4,0,0,1/24,3/4],[1/4,0,0,-1/24,3/4]])\n",
    "vecs_5 = np.array([[.9974,.0146,.0004,0,.0026],[.0026 ,-.0146,.1662,0,.9974], [0,0,-.0833, .1443,1], [0,0,-.0833, -.1443,1], [1/4,1/24,-1/24,0,3/4]])\n",
    "\n",
    "unent_arry_6 = np.array([[0,0,0,0,1],[1/4,1/8,1/8,0,3/4],[1/4,-1/8,1/8,0,3/4],[1/4,1/24,-1/24,0,3/4], [1,0,0,0,0],[1/4,0,0,1/24,3/4],[1/4,0,0,-1/24,3/4]])\n",
    "vecs_6 = np.array([[.9974,.0146,.0004,0,.0026],[.0026 ,-.0146,.1662,0,.9974], [0,0,-.0833, .1443,1], [0,0,-.0833, -.1443,1], [1/4,-1/24,-1/24,0,3/4]])\n",
    "\n",
    "unent_arry_7 = np.array([[0,0,0,0,1],[1/4,1/8,1/8,0,3/4],[1/4,-1/8,1/8,0,3/4],[1/4,1/24,-1/24,0,3/4], [1/4,-1/24,-1/24,0,3/4],[1,0,0,0,0],[1/4,0,0,-1/24,3/4]])\n",
    "vecs_7 = np.array([[.9974,.0146,.0004,0,.0026],[.0026 ,-.0146,.1662,0,.9974], [0,0,-.0833, .1443,1], [0,0,-.0833, -.1443,1], [1/4,0,0,1/24,3/4]])\n",
    "\n",
    "unent_arry_8 = np.array([[0,0,0,0,1],[1/4,1/8,1/8,0,3/4],[1/4,-1/8,1/8,0,3/4],[1/4,1/24,-1/24,0,3/4], [1/4,-1/24,-1/24,0,3/4],[1/4,0,0,1/24,3/4],[1,0,0,0,0]])\n",
    "vecs_8 = np.array([[.9974,.0146,.0004,0,.0026],[.0026 ,-.0146,.1662,0,.9974], [0,0,-.0833, .1443,1], [0,0,-.0833, -.1443,1], [1/4,0,0,-1/24,3/4]])\n"
   ]
  },
  {
   "cell_type": "code",
   "execution_count": 32,
   "metadata": {},
   "outputs": [
    {
     "name": "stdout",
     "output_type": "stream",
     "text": [
      "0.6666666666666666 [1.24002533e-44 3.33333333e-01 3.33333333e-01 3.33333333e-01] [1.24002533e-44 1.33333333e-04 1.11022302e-16 0.00000000e+00\n",
      " 0.00000000e+00]\n",
      "        message: Optimization terminated successfully. (HiGHS Status 7: Optimal)\n",
      "        success: True\n",
      "         status: 0\n",
      "            fun: -0.6665777777777784\n",
      "              x: [ 9.999e-01 -0.000e+00  0.000e+00  0.000e+00  0.000e+00\n",
      "                   0.000e+00  0.000e+00]\n",
      "            nit: 0\n",
      "          lower:  residual: [ 9.999e-01 -0.000e+00  0.000e+00  0.000e+00\n",
      "                              0.000e+00  0.000e+00  0.000e+00]\n",
      "                 marginals: [ 0.000e+00  0.000e+00  0.000e+00  6.667e-01\n",
      "                              6.667e-01  2.113e-01  7.887e-01]\n",
      "          upper:  residual: [       inf        inf        inf        inf\n",
      "                                    inf        inf        inf]\n",
      "                 marginals: [ 0.000e+00  0.000e+00  0.000e+00  0.000e+00\n",
      "                              0.000e+00  0.000e+00  0.000e+00]\n",
      "          eqlin:  residual: []\n",
      "                 marginals: []\n",
      "        ineqlin:  residual: [ 0.000e+00  1.333e-04  1.110e-16  0.000e+00\n",
      "                              0.000e+00  9.999e-01  0.000e+00  0.000e+00\n",
      "                              0.000e+00  0.000e+00  0.000e+00  0.000e+00]\n",
      "                 marginals: [-4.000e+00 -0.000e+00 -0.000e+00 -2.000e+00\n",
      "                             -0.000e+00 -0.000e+00 -0.000e+00 -0.000e+00\n",
      "                             -0.000e+00 -0.000e+00 -0.000e+00 -0.000e+00]\n",
      " mip_node_count: 0\n",
      " mip_dual_bound: 0.0\n",
      "        mip_gap: 0.0\n"
     ]
    }
   ],
   "source": [
    "concurance(unent_arry_1,vecs_1)\n",
    "\n",
    "\n"
   ]
  },
  {
   "cell_type": "code",
   "execution_count": 34,
   "metadata": {},
   "outputs": [
    {
     "name": "stdout",
     "output_type": "stream",
     "text": [
      "0.6666666666666666 [1.24002533e-44 3.33333333e-01 3.33333333e-01 3.33333333e-01] [1.24002533e-44 3.33333333e-01 3.33333333e-01 3.33333333e-01\n",
      " 0.00000000e+00]\n",
      "       message: Optimization terminated successfully. (HiGHS Status 7: Optimal)\n",
      "       success: True\n",
      "        status: 0\n",
      "           fun: 0.0\n",
      "             x: [ 0.000e+00  0.000e+00 -0.000e+00  0.000e+00  0.000e+00\n",
      "                  0.000e+00  0.000e+00]\n",
      "           nit: 0\n",
      "         lower:  residual: [ 0.000e+00  0.000e+00 -0.000e+00  0.000e+00\n",
      "                             0.000e+00  0.000e+00  0.000e+00]\n",
      "                marginals: [ 7.067e+01  3.734e+01  0.000e+00  2.356e+01\n",
      "                             1.111e+01  1.767e+01  1.767e+01]\n",
      "         upper:  residual: [       inf        inf        inf        inf\n",
      "                                   inf        inf        inf]\n",
      "                marginals: [ 0.000e+00  0.000e+00  0.000e+00  0.000e+00\n",
      "                             0.000e+00  0.000e+00  0.000e+00]\n",
      "         eqlin:  residual: []\n",
      "                marginals: []\n",
      "       ineqlin:  residual: [ 0.000e+00  3.333e-01  3.333e-01  3.333e-01\n",
      "                             0.000e+00  0.000e+00  0.000e+00  0.000e+00\n",
      "                             0.000e+00  0.000e+00  0.000e+00  0.000e+00]\n",
      "                marginals: [-7.267e+01 -0.000e+00 -0.000e+00 -0.000e+00\n",
      "                            -0.000e+00 -0.000e+00 -0.000e+00 -0.000e+00\n",
      "                            -0.000e+00 -0.000e+00 -0.000e+00 -0.000e+00]\n"
     ]
    }
   ],
   "source": [
    "concurance(unent_arry_2,vecs_2)\n",
    "\n"
   ]
  },
  {
   "cell_type": "code",
   "execution_count": 35,
   "metadata": {},
   "outputs": [
    {
     "name": "stdout",
     "output_type": "stream",
     "text": [
      "0.6666666666666666 [1.24002533e-44 3.33333333e-01 3.33333333e-01 3.33333333e-01] [1.24002533e-44 3.33333333e-01 3.33333333e-01 3.33333333e-01\n",
      " 0.00000000e+00]\n",
      "       message: Optimization terminated successfully. (HiGHS Status 7: Optimal)\n",
      "       success: True\n",
      "        status: 0\n",
      "           fun: 0.0\n",
      "             x: [-0.000e+00  0.000e+00 -0.000e+00  0.000e+00  0.000e+00\n",
      "                  0.000e+00  0.000e+00]\n",
      "           nit: 4\n",
      "         lower:  residual: [-0.000e+00  0.000e+00 -0.000e+00  0.000e+00\n",
      "                             0.000e+00  0.000e+00  0.000e+00]\n",
      "                marginals: [ 0.000e+00  7.067e+01  0.000e+00  2.356e+01\n",
      "                             1.111e+01  1.767e+01  1.767e+01]\n",
      "         upper:  residual: [       inf        inf        inf        inf\n",
      "                                   inf        inf        inf]\n",
      "                marginals: [ 0.000e+00  0.000e+00  0.000e+00  0.000e+00\n",
      "                             0.000e+00  0.000e+00  0.000e+00]\n",
      "         eqlin:  residual: []\n",
      "                marginals: []\n",
      "       ineqlin:  residual: [ 0.000e+00  3.333e-01  3.333e-01  3.333e-01\n",
      "                             0.000e+00  0.000e+00  0.000e+00  0.000e+00\n",
      "                             0.000e+00  0.000e+00  0.000e+00  0.000e+00]\n",
      "                marginals: [-7.267e+01 -0.000e+00 -0.000e+00 -0.000e+00\n",
      "                            -3.734e+01 -0.000e+00 -0.000e+00 -0.000e+00\n",
      "                            -0.000e+00 -0.000e+00 -0.000e+00 -0.000e+00]\n"
     ]
    }
   ],
   "source": [
    "concurance(unent_arry_3,vecs_3)"
   ]
  },
  {
   "cell_type": "code",
   "execution_count": 106,
   "metadata": {},
   "outputs": [
    {
     "name": "stdout",
     "output_type": "stream",
     "text": [
      "0.533510944147056 [0.         0.06003056 0.19311645 0.54715817 0.00797052 0.19172431\n",
      " 0.         0.         0.         0.         0.         0.        ]\n"
     ]
    }
   ],
   "source": [
    "concurance(unent_arry_4,vecs_4)"
   ]
  },
  {
   "cell_type": "code",
   "execution_count": 107,
   "metadata": {},
   "outputs": [
    {
     "name": "stdout",
     "output_type": "stream",
     "text": [
      "0.5335109441470559 [ 6.50521303e-19  6.00305606e-02  1.93116447e-01  5.47158167e-01\n",
      " -4.59214216e-18  1.91724305e-01  0.00000000e+00  7.97051999e-03\n",
      "  0.00000000e+00  0.00000000e+00  0.00000000e+00  0.00000000e+00]\n"
     ]
    }
   ],
   "source": [
    "concurance(unent_arry_5,vecs_5)"
   ]
  },
  {
   "cell_type": "code",
   "execution_count": 108,
   "metadata": {},
   "outputs": [
    {
     "name": "stdout",
     "output_type": "stream",
     "text": [
      "0.533510944147056 [-4.33680869e-19  6.00305606e-02  1.93116447e-01  5.47158167e-01\n",
      "  3.81723105e-19  1.91724305e-01  0.00000000e+00  7.97051999e-03\n",
      "  0.00000000e+00  0.00000000e+00  0.00000000e+00  0.00000000e+00]\n"
     ]
    }
   ],
   "source": [
    "concurance(unent_arry_6,vecs_6)"
   ]
  },
  {
   "cell_type": "code",
   "execution_count": 109,
   "metadata": {},
   "outputs": [],
   "source": [
    "#concurance(unent_arry_7,vecs_7)\n",
    "#concurance(unent_arry_8,vecs_8)"
   ]
  },
  {
   "cell_type": "code",
   "execution_count": null,
   "metadata": {},
   "outputs": [],
   "source": []
  },
  {
   "cell_type": "code",
   "execution_count": null,
   "metadata": {},
   "outputs": [],
   "source": []
  }
 ],
 "metadata": {
  "kernelspec": {
   "display_name": "cwq",
   "language": "python",
   "name": "python3"
  },
  "language_info": {
   "codemirror_mode": {
    "name": "ipython",
    "version": 3
   },
   "file_extension": ".py",
   "mimetype": "text/x-python",
   "name": "python",
   "nbconvert_exporter": "python",
   "pygments_lexer": "ipython3",
   "version": "3.12.4"
  }
 },
 "nbformat": 4,
 "nbformat_minor": 2
}
