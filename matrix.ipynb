{
 "cells": [
  {
   "cell_type": "code",
   "execution_count": 108,
   "metadata": {},
   "outputs": [
    {
     "name": "stdout",
     "output_type": "stream",
     "text": [
      "alpha*|+-+\\rangle + beta*(0.707106781186547*|++-\\rangle + 0.707106781186547*|-++\\rangle)\n",
      "\n",
      "Outer Product Matrix:\n",
      " [[0 0 0 0 0 0 0 0]\n",
      " [0 0.5*beta**2 0.707106781186547*alpha*beta 0 0.5*beta**2 0 0 0]\n",
      " [0 0.707106781186547*alpha*beta alpha**2 0 0.707106781186547*alpha*beta\n",
      "  0 0 0]\n",
      " [0 0 0 0.5*beta**2 0 0.707106781186547*alpha*beta 0.5*beta**2 0]\n",
      " [0 0.5*beta**2 0.707106781186547*alpha*beta 0 0.5*beta**2 0 0 0]\n",
      " [0 0 0 0.707106781186547*alpha*beta 0 alpha**2\n",
      "  0.707106781186547*alpha*beta 0]\n",
      " [0 0 0 0.5*beta**2 0 0.707106781186547*alpha*beta 0.5*beta**2 0]\n",
      " [0 0 0 0 0 0 0 0]]\n"
     ]
    }
   ],
   "source": [
    "import numpy as np\n",
    "from sympy import symbols, Matrix\n",
    "from sympy import Symbol\n",
    "\n",
    "# === 1. Define Symbolic Basis States ===\n",
    "# These are symbolic representations for formal mathematical expressions\n",
    "ket_ppp = symbols(r'|+++\\rangle')  \n",
    "ket_ppm = symbols(r'|++-\\rangle')  \n",
    "ket_pmp = symbols(r'|+-+\\rangle')  \n",
    "ket_pmm = symbols(r'|+--\\rangle')  \n",
    "ket_mpp = symbols(r'|-++\\rangle')  \n",
    "ket_mpm = symbols(r'|-+-\\rangle')  \n",
    "ket_mmp = symbols(r'|--+\\rangle')  \n",
    "ket_mmm = symbols(r'|---\\rangle')\n",
    "\n",
    "# === 2. Computational Basis Representation ===\n",
    "# We represent the 3-qubit states as 8-dimensional column vectors\n",
    "ket_0 = np.array([[1], [0]])  # |0>\n",
    "ket_1 = np.array([[0], [1]])  # |1>\n",
    "\n",
    "# Tensor product to create 3-qubit basis states (8-dimensional vectors)\n",
    "ket_mmm_vec = np.kron(np.kron(ket_1, ket_1), ket_1)  # |+++>\n",
    "ket_mmp_vec = np.kron(np.kron(ket_1, ket_1), ket_0)  # |++->\n",
    "ket_mpm_vec = np.kron(np.kron(ket_1, ket_0), ket_1)  # |+-+>\n",
    "ket_mpp_vec = np.kron(np.kron(ket_1, ket_0), ket_0)  # |+-->\n",
    "ket_pmm_vec = np.kron(np.kron(ket_0, ket_1), ket_1)  # |-++>\n",
    "ket_pmp_vec = np.kron(np.kron(ket_0, ket_1), ket_0)  # |-+->\n",
    "ket_ppm_vec = np.kron(np.kron(ket_0, ket_0), ket_1)  # |--+>\n",
    "ket_ppp_vec = np.kron(np.kron(ket_0, ket_0), ket_0)  # |--->\n",
    "\n",
    "# Store all vectors in a dictionary for easy access\n",
    "basis_states = {\n",
    "    ket_ppp: ket_ppp_vec,\n",
    "    ket_ppm: ket_ppm_vec,\n",
    "    ket_pmp: ket_pmp_vec,\n",
    "    ket_pmm: ket_pmm_vec,\n",
    "    ket_mpp: ket_mpp_vec,\n",
    "    ket_mpm: ket_mpm_vec,\n",
    "    ket_mmp: ket_mmp_vec,\n",
    "    ket_mmm: ket_mmm_vec\n",
    "}\n",
    "\n",
    "# === 3. Define a Linear Combination of Basis States ===\n",
    "#a, b, c, d = symbols('a b c d')  # Coefficients for a generic ket\n",
    "alpha, beta, gamma, delta = symbols('alpha beta gamma delta')\n",
    "\n",
    "xi_ppm = Symbol(r'|\\xi_{++-}\\rangle')\n",
    "\n",
    "# Symbolic expression for a ket\n",
    "xi_ppm = 1/np.sqrt(2)*(ket_ppm+ket_mpp) \n",
    "\n",
    "# Numeric representation\n",
    "xi_ppm_vec = 1/np.sqrt(2)*(ket_ppm_vec+ket_mpp_vec) \n",
    "#print(xi_ppm_vec)\n",
    "\n",
    "xi_1_plus = symbols(r'\\xi_{1+}')\n",
    "\n",
    "xi_1_plus = alpha*ket_pmp + beta*xi_ppm\n",
    "xi_1_plus_vec = alpha*ket_pmp_vec + beta*xi_ppm_vec\n",
    "\n",
    "print(xi_1_plus)\n",
    "\n",
    "xi_mmp = Symbol(r'|\\xi_{--+}\\rangle')\n",
    "\n",
    "\n",
    "# Symbolic expression for a ket\n",
    "xi_mmp = 1/np.sqrt(2)*(ket_mmp+ket_pmm) \n",
    "\n",
    "# Numeric representation\n",
    "xi_mmp_vec = 1/np.sqrt(2)*(ket_mmp_vec+ket_pmm_vec) \n",
    "#print(xi_ppm_vec)\n",
    "\n",
    "xi_1_minus = symbols(r'\\xi_{1-}')\n",
    "\n",
    "xi_1_minus = alpha*ket_mpm + beta*xi_mmp\n",
    "xi_1_minus_vec = alpha*ket_mpm_vec + beta*xi_mmp_vec\n",
    "\n",
    "#print(xi_1_plus)\n",
    "test = np.outer(ket_mmm_vec,ket_mmm_vec)\n",
    "#print(ket_ppm_vec,test)\n",
    "\n",
    "# === 4. Compute an Outer Product Matrix ===\n",
    "# Example: Creating a symbolic density matrix\n",
    "outer_product_matrix = np.outer(xi_1_plus_vec, xi_1_plus_vec) + np.outer(xi_1_minus_vec, xi_1_minus_vec)\n",
    "\n",
    "# === 5. Print Results ===\n",
    "#print(\"Symbolic Ket Representation:\", ket_symbolic)\n",
    "#print(\"\\nNumeric Ket Representation:\\n\", ket_vector)\n",
    "print(\"\\nOuter Product Matrix:\\n\", outer_product_matrix)\n",
    "#print(xi_1_minus)\n",
    "\n"
   ]
  },
  {
   "cell_type": "code",
   "execution_count": 109,
   "metadata": {},
   "outputs": [
    {
     "name": "stdout",
     "output_type": "stream",
     "text": [
      "alpha*|+-+\\rangle + beta*(0.707106781186547*|++-\\rangle + 0.707106781186547*|-++\\rangle)\n",
      "\n",
      "Outer Product Matrix:\n",
      " [[0 0 0 0 0 0 0 0]\n",
      " [0 0.5*alpha**2 -0.707106781186547*alpha*beta 0 0.5*alpha**2 0 0 0]\n",
      " [0 -0.707106781186547*alpha*beta beta**2 0 -0.707106781186547*alpha*beta\n",
      "  0 0 0]\n",
      " [0 0 0 0.5*alpha**2 0 -0.707106781186547*alpha*beta 0.5*alpha**2 0]\n",
      " [0 0.5*alpha**2 -0.707106781186547*alpha*beta 0 0.5*alpha**2 0 0 0]\n",
      " [0 0 0 -0.707106781186547*alpha*beta 0 beta**2\n",
      "  -0.707106781186547*alpha*beta 0]\n",
      " [0 0 0 0.5*alpha**2 0 -0.707106781186547*alpha*beta 0.5*alpha**2 0]\n",
      " [0 0 0 0 0 0 0 0]]\n"
     ]
    }
   ],
   "source": [
    "xi_ppm = Symbol(r'|\\xi_{++-}\\rangle')\n",
    "\n",
    "# Symbolic expression for a ket\n",
    "xi_ppm = 1/np.sqrt(2)*(ket_ppm+ket_mpp) \n",
    "\n",
    "# Numeric representation\n",
    "xi_ppm_vec = 1/np.sqrt(2)*(ket_ppm_vec+ket_mpp_vec) \n",
    "#print(xi_ppm_vec)\n",
    "\n",
    "xi_2_plus = symbols(r'\\xi_{2+}')\n",
    "\n",
    "xi_2_plus = beta*ket_pmp - alpha*xi_ppm\n",
    "xi_2_plus_vec = beta*ket_pmp_vec - alpha*xi_ppm_vec\n",
    "\n",
    "print(xi_1_plus)\n",
    "\n",
    "xi_mmp = Symbol(r'|\\xi_{--+}\\rangle')\n",
    "\n",
    "\n",
    "# Symbolic expression for a ket\n",
    "xi_mmp = 1/np.sqrt(2)*(ket_mmp+ket_pmm) \n",
    "\n",
    "# Numeric representation\n",
    "xi_mmp_vec = 1/np.sqrt(2)*(ket_mmp_vec+ket_pmm_vec) \n",
    "#print(xi_ppm_vec)\n",
    "\n",
    "xi_2_minus = symbols(r'\\xi_{2-}')\n",
    "\n",
    "xi_2_minus = beta*ket_mpm - alpha*xi_mmp\n",
    "xi_2_minus_vec = beta*ket_mpm_vec - alpha*xi_mmp_vec\n",
    "\n",
    "#print(xi_1_plus)\n",
    "test = np.outer(ket_mmm_vec,ket_mmm_vec)\n",
    "#print(ket_ppm_vec,test)\n",
    "\n",
    "# === 4. Compute an Outer Product Matrix ===\n",
    "# Example: Creating a symbolic density matrix\n",
    "outer_product_matrix = np.outer(xi_2_plus_vec, xi_2_plus_vec) + np.outer(xi_2_minus_vec, xi_2_minus_vec)\n",
    "\n",
    "\n",
    "# === 5. Print Results ===\n",
    "#print(\"Symbolic Ket Representation:\", ket_symbolic)\n",
    "#print(\"\\nNumeric Ket Representation:\\n\", ket_vector)\n",
    "print(\"\\nOuter Product Matrix:\\n\", outer_product_matrix)\n",
    "#print(xi_1_minus)\n"
   ]
  },
  {
   "cell_type": "code",
   "execution_count": 110,
   "metadata": {},
   "outputs": [
    {
     "name": "stdout",
     "output_type": "stream",
     "text": [
      "\n",
      "Outer Product Matrix:\n",
      " [[2 0 0 0 0 0 0 0]\n",
      " [0 1 0 0 0 0 0 0]\n",
      " [0 0 0 0 0 0 0 0]\n",
      " [0 0 0 1 0 0 0 0]\n",
      " [0 0 0 0 1 0 0 0]\n",
      " [0 0 0 0 0 0 0 0]\n",
      " [0 0 0 0 0 0 1 0]\n",
      " [0 0 0 0 0 0 0 2]]\n"
     ]
    }
   ],
   "source": [
    "outer_product_g1 = 2*np.outer(ket_ppp_vec, ket_ppp_vec) + 2*np.outer(ket_mmm_vec, ket_mmm_vec) + np.outer(ket_ppm_vec,ket_ppm_vec)+ np.outer(ket_pmm_vec,ket_pmm_vec)+np.outer(ket_mmp_vec,ket_mmp_vec) +np.outer(ket_mpp_vec,ket_mpp_vec)\n",
    "print(\"\\nOuter Product Matrix:\\n\", outer_product_g1)\n",
    "\n"
   ]
  },
  {
   "cell_type": "code",
   "execution_count": 111,
   "metadata": {},
   "outputs": [],
   "source": [
    "#outer_product_g6_s1 = np.outer(ket_ppp_vec, ket_ppp_vec) + np.outer(ket_ppm_vec,ket_ppm_vec)+ np.outer(ket_ppm_vec,ket_pmp_vec)+np.outer(ket_pmp_vec,ket_ppm_vec) +np.outer(ket_pmp_vec,ket_pmp_vec) + np.outer(ket_pmm_vec,ket_pmm_vec)\n",
    "#print(\"\\nOuter Product Matrix:\\n\", outer_product_g6)\n",
    "\n"
   ]
  },
  {
   "cell_type": "code",
   "execution_count": 112,
   "metadata": {},
   "outputs": [
    {
     "name": "stdout",
     "output_type": "stream",
     "text": [
      "\n",
      "Outer Product Matrix:\n",
      " [[0 0 0 0 0 0 0 0]\n",
      " [0 0 1 0 0 0 0 0]\n",
      " [0 1 0 0 0 0 0 0]\n",
      " [0 0 0 0 0 0 0 0]\n",
      " [0 0 0 0 0 0 0 0]\n",
      " [0 0 0 0 0 0 0 0]\n",
      " [0 0 0 0 0 0 0 0]\n",
      " [0 0 0 0 0 0 0 0]]\n"
     ]
    }
   ],
   "source": [
    "test = np.outer(ket_ppm_vec, ket_pmp_vec) + np.outer(ket_pmp_vec,ket_ppm_vec)\n",
    "print(\"\\nOuter Product Matrix:\\n\", test)\n"
   ]
  },
  {
   "cell_type": "code",
   "execution_count": 113,
   "metadata": {},
   "outputs": [
    {
     "name": "stdout",
     "output_type": "stream",
     "text": [
      "\n",
      "Outer Product Matrix:\n",
      " [[ 0  0  0  0  0  0  0  0]\n",
      " [ 0  0  1  0  0  0  0  0]\n",
      " [ 0  1  0  0  1  0  0  0]\n",
      " [ 0  0  0  0  0 -1  0  0]\n",
      " [ 0  0  1  0  0  0  0  0]\n",
      " [ 0  0  0 -1  0  0 -1  0]\n",
      " [ 0  0  0  0  0 -1  0  0]\n",
      " [ 0  0  0  0  0  0  0  0]]\n"
     ]
    }
   ],
   "source": [
    "outer_product_g6 = np.outer(ket_ppm_vec, ket_pmp_vec) + np.outer(ket_pmp_vec,ket_ppm_vec) + np.outer(ket_mpp_vec, ket_pmp_vec) + np.outer(ket_pmp_vec,ket_mpp_vec) - (np.outer(ket_pmm_vec, ket_mpm_vec) + np.outer(ket_mpm_vec,ket_pmm_vec) + np.outer(ket_mpm_vec, ket_mmp_vec) + np.outer(ket_mmp_vec,ket_mpm_vec))\n",
    "\n",
    "print(\"\\nOuter Product Matrix:\\n\", outer_product_g6)\n"
   ]
  },
  {
   "cell_type": "code",
   "execution_count": null,
   "metadata": {},
   "outputs": [],
   "source": []
  },
  {
   "cell_type": "code",
   "execution_count": null,
   "metadata": {},
   "outputs": [],
   "source": []
  },
  {
   "cell_type": "code",
   "execution_count": 114,
   "metadata": {},
   "outputs": [
    {
     "name": "stdout",
     "output_type": "stream",
     "text": [
      "⎡      [[1/8  0  0  0  0  0  0  0]]      ⎤\n",
      "⎢                                        ⎥\n",
      "⎢[[0  0.125  -0.125  0  -0.125  0  0  0]]⎥\n",
      "⎢                                        ⎥\n",
      "⎢[[0  -0.125  0.125  0  0.125  0  0  0]] ⎥\n",
      "⎢                                        ⎥\n",
      "⎢[[0  0  0  0.125  0  0.125  -0.125  0]] ⎥\n",
      "⎢                                        ⎥\n",
      "⎢[[0  -0.125  0.125  0  0.125  0  0  0]] ⎥\n",
      "⎢                                        ⎥\n",
      "⎢[[0  0  0  0.125  0  0.125  -0.125  0]] ⎥\n",
      "⎢                                        ⎥\n",
      "⎢[[0  0  0  -0.125  0  -0.125  0.125  0]]⎥\n",
      "⎢                                        ⎥\n",
      "⎣     [[0  0  0  0  0  0  0  0.125]]     ⎦\n",
      "Full density matrix saved to 'density_matrix.txt'\n"
     ]
    }
   ],
   "source": [
    "import numpy as np\n",
    "import sympy as sp\n",
    "from sympy.physics.quantum import TensorProduct\n",
    "from sympy.physics.quantum.dagger import Dagger\n",
    "from sympy.physics.quantum import InnerProduct, OuterProduct\n",
    "from sympy.physics.quantum.state import Ket, Bra\n",
    "\n",
    "\n",
    "\n",
    "def convert_to_z_basis(state):\n",
    "    \"\"\"Convert a single qubit state from X or Y basis to Z basis representation.\"\"\"\n",
    "    theta = sp.Symbol('theta', real=True)\n",
    "    if state == '|+>_x':\n",
    "        return (1/sp.sqrt(2)) * sp.Matrix([[sp.exp(-1j * theta / 2)], [sp.exp(1j * theta / 2)]])  # (|0> + |1>)/sqrt(2)\n",
    "    elif state == '|->_x':\n",
    "        return (1/sp.sqrt(2)) * sp.Matrix([[sp.exp(-1j * theta / 2)], [-sp.exp(1j * theta / 2)]])  # (|0> - |1>)/sqrt(2)\n",
    "    elif state == '|+>_y':\n",
    "        return (1/sp.sqrt(2)) * sp.Matrix([[sp.exp(-1j * theta / 2)], [1j*sp.exp(1j * theta / 2)]])  # (|0> + i|1>)/sqrt(2)\n",
    "    elif state == '|->_y':\n",
    "        return (1/sp.sqrt(2)) * sp.Matrix([[sp.exp(-1j * theta / 2)], [-1j*sp.exp(1j * theta / 2)]])  # (|0> - i|1>)/sqrt(2)\n",
    "    elif state == '|+>_z':\n",
    "        return sp.Matrix([[sp.exp(-1j * theta / 2)], [0]])  # e^(-iθ/2)|0>\n",
    "    elif state == '|->_z':\n",
    "        return sp.Matrix([[0], [sp.exp(1j * theta / 2)]])  # e^(iθ/2)|1>\n",
    "    else:\n",
    "        raise ValueError(f\"Unknown state: {state}\")\n",
    "\n",
    "def tensor_product(*states):\n",
    "    \"\"\"Compute the tensor product of multiple states and return as a matrix.\"\"\"\n",
    "    result = states[0]\n",
    "    for state in states[1:]:\n",
    "        result = TensorProduct(result, state)  # Convert tensor result to a mutable matrix\n",
    "    return result.reshape(len(result), 1)  # Ensure column matrix output\n",
    "\n",
    "def outer_product(state_vector):\n",
    "    \"\"\"Compute the outer product |ψ⟩⟨ψ| using SymPy's built-in outer product method.\"\"\"\n",
    "    #print(Ket('state_vector'))\n",
    "    #print(Bra('state_vector'))\n",
    "    return sp.tensorproduct(state_vector,Dagger(state_vector))\n",
    "    #return Dagger(OuterProduct(Ket('state_vector'), Bra('state_vector')))\n",
    " # Built-in outer product\n",
    "\n",
    "def quantum_state_multiplier(state_list):\n",
    "    \"\"\"Given a list of quantum states in different bases, compute the outer product of the final state.\"\"\"\n",
    "    converted_states = [convert_to_z_basis(state) for state in state_list]\n",
    "    full_state = tensor_product(*converted_states)\n",
    "    \n",
    "    #print(full_state)\n",
    "    #print(Dagger(full_state))\n",
    "      # Ensure full_state is a matrix\n",
    "    density_matrix = outer_product(full_state)\n",
    "\n",
    "    # Dynamically replace all exponent terms with 0\n",
    "    density_matrix = density_matrix.replace(lambda expr: expr.has(sp.exp), lambda _: 0)\n",
    "    \n",
    "    # Save full matrix to file for better viewing\n",
    "    with open(\"density_matrix.txt\", \"w\", encoding=\"utf-8\") as f:\n",
    "        f.write(sp.pretty(density_matrix))\n",
    "    \n",
    "    return density_matrix\n",
    "\n",
    "# Example Usage\n",
    "state_list = ['|+>_y', '|+>_y', '|->_y']  # Input state example\n",
    "result_matrix = quantum_state_multiplier(state_list)\n",
    "\n",
    "\n",
    "# Display first few rows and columns if matrix is too large\n",
    "#rows, cols = result_matrix.shape\n",
    "#preview_size = min(5, rows), min(5, cols)\n",
    "sp.pretty_print(result_matrix)  # Show a small preview\n",
    "\n",
    "print(\"Full density matrix saved to 'density_matrix.txt'\")"
   ]
  },
  {
   "cell_type": "code",
   "execution_count": 150,
   "metadata": {},
   "outputs": [
    {
     "name": "stdout",
     "output_type": "stream",
     "text": [
      "⎡  [[0.125  0  0  0  0  0  0  0]]   ⎤\n",
      "⎢                                   ⎥\n",
      "⎢[[0  0.125  0  0  -0.125  0  0  0]]⎥\n",
      "⎢                                   ⎥\n",
      "⎢  [[0  0  0.125  0  0  0  0  0]]   ⎥\n",
      "⎢                                   ⎥\n",
      "⎢[[0  0  0  0.125  0  0  -0.125  0]]⎥\n",
      "⎢                                   ⎥\n",
      "⎢[[0  -0.125  0  0  0.125  0  0  0]]⎥\n",
      "⎢                                   ⎥\n",
      "⎢  [[0  0  0  0  0  0.125  0  0]]   ⎥\n",
      "⎢                                   ⎥\n",
      "⎢[[0  0  0  -0.125  0  0  0.125  0]]⎥\n",
      "⎢                                   ⎥\n",
      "⎣  [[0  0  0  0  0  0  0  0.125]]   ⎦\n"
     ]
    }
   ],
   "source": [
    "#state 30\n",
    "state_list1 = ['|+>_x', '|+>_y', '|->_x']  # Input state example\n",
    "state_list2 = ['|->_x', '|->_y', '|+>_x']  # Input state example\n",
    "state_list3 = ['|->_x', '|+>_y', '|+>_x']  # Input state example\n",
    "state_list4 = ['|+>_x', '|->_y', '|->_x']  # Input state example\n",
    "\n",
    "\n",
    "result_matrix = 1/4*(quantum_state_multiplier(state_list1) +quantum_state_multiplier(state_list2) +quantum_state_multiplier(state_list3) +quantum_state_multiplier(state_list4))\n",
    "sp.pretty_print(result_matrix)  # Show a small preview\n",
    "\n"
   ]
  },
  {
   "cell_type": "code",
   "execution_count": 143,
   "metadata": {},
   "outputs": [
    {
     "name": "stdout",
     "output_type": "stream",
     "text": [
      "⎡     [[0.125  0  0  0  0  0  0  0]]     ⎤\n",
      "⎢                                        ⎥\n",
      "⎢  [[0  0.125  0.0625  0  0  0  0  0]]   ⎥\n",
      "⎢                                        ⎥\n",
      "⎢[[0  0.0625  0.125  0  0.0625  0  0  0]]⎥\n",
      "⎢                                        ⎥\n",
      "⎢  [[0  0  0  0.125  0  0.0625  0  0]]   ⎥\n",
      "⎢                                        ⎥\n",
      "⎢  [[0  0  0.0625  0  0.125  0  0  0]]   ⎥\n",
      "⎢                                        ⎥\n",
      "⎢[[0  0  0  0.0625  0  0.125  0.0625  0]]⎥\n",
      "⎢                                        ⎥\n",
      "⎢  [[0  0  0  0  0  0.0625  0.125  0]]   ⎥\n",
      "⎢                                        ⎥\n",
      "⎣     [[0  0  0  0  0  0  0  0.125]]     ⎦\n"
     ]
    }
   ],
   "source": [
    "#state 6\n",
    "state_list1 = ['|+>_z', '|+>_x', '|+>_x']  # Input state example\n",
    "state_list2 = ['|+>_x', '|+>_x', '|+>_z']  # Input state example\n",
    "state_list3 = ['|->_z', '|->_x', '|->_x']  # Input state example\n",
    "state_list4 = ['|->_x', '|->_x', '|->_z']  # Input state example\n",
    "\n",
    "\n",
    "result_matrix = 1/4*(quantum_state_multiplier(state_list1) +quantum_state_multiplier(state_list2) +quantum_state_multiplier(state_list3) +quantum_state_multiplier(state_list4))\n",
    "sp.pretty_print(result_matrix)  # Show a small preview\n",
    "\n"
   ]
  },
  {
   "cell_type": "code",
   "execution_count": 141,
   "metadata": {},
   "outputs": [
    {
     "name": "stdout",
     "output_type": "stream",
     "text": [
      "⎡ [[0  0  0  0  0  0  0  0]] ⎤\n",
      "⎢                            ⎥\n",
      "⎢[[0  1/2  0  0  0  0  0  0]]⎥\n",
      "⎢                            ⎥\n",
      "⎢ [[0  0  1  0  0  0  0  0]] ⎥\n",
      "⎢                            ⎥\n",
      "⎢[[0  0  0  1/2  0  0  0  0]]⎥\n",
      "⎢                            ⎥\n",
      "⎢[[0  0  0  0  1/2  0  0  0]]⎥\n",
      "⎢                            ⎥\n",
      "⎢ [[0  0  0  0  0  1  0  0]] ⎥\n",
      "⎢                            ⎥\n",
      "⎢[[0  0  0  0  0  0  1/2  0]]⎥\n",
      "⎢                            ⎥\n",
      "⎣ [[0  0  0  0  0  0  0  0]] ⎦\n"
     ]
    }
   ],
   "source": [
    "#state 13\n",
    "state_list1 = ['|+>_z', '|->_z', '|+>_x']  # Input state example\n",
    "state_list2 = ['|+>_x', '|->_z', '|+>_z']  # Input state example\n",
    "state_list3 = ['|->_z', '|+>_z', '|->_x']  # Input state example\n",
    "state_list4 = ['|->_x', '|+>_z', '|->_z']  # Input state example\n",
    "\n",
    "\n",
    "result_matrix = quantum_state_multiplier(state_list1) +quantum_state_multiplier(state_list2) +quantum_state_multiplier(state_list3) +quantum_state_multiplier(state_list4)\n",
    "sp.pretty_print(result_matrix)  # Show a small preview\n",
    "\n"
   ]
  },
  {
   "cell_type": "code",
   "execution_count": null,
   "metadata": {},
   "outputs": [
    {
     "name": "stdout",
     "output_type": "stream",
     "text": [
      "⎡   [[1/2  0  0  0  0  0  0  0]]   ⎤\n",
      "⎢                                  ⎥\n",
      "⎢ [[0  1/2  -1/4  0  0  0  0  0]]  ⎥\n",
      "⎢                                  ⎥\n",
      "⎢[[0  -1/4  1/2  0  -1/4  0  0  0]]⎥\n",
      "⎢                                  ⎥\n",
      "⎢ [[0  0  0  1/2  0  -1/4  0  0]]  ⎥\n",
      "⎢                                  ⎥\n",
      "⎢ [[0  0  -1/4  0  1/2  0  0  0]]  ⎥\n",
      "⎢                                  ⎥\n",
      "⎢[[0  0  0  -1/4  0  1/2  -1/4  0]]⎥\n",
      "⎢                                  ⎥\n",
      "⎢ [[0  0  0  0  0  -1/4  1/2  0]]  ⎥\n",
      "⎢                                  ⎥\n",
      "⎣   [[0  0  0  0  0  0  0  1/2]]   ⎦\n"
     ]
    }
   ],
   "source": [
    "#state 7\n",
    "state_list1 = ['|+>_z', '|+>_x', '|->_x']  # Input state example\n",
    "state_list2 = ['|+>_x', '|->_x', '|->_z']  # Input state example\n",
    "state_list3 = ['|->_z', '|->_x', '|+>_x']  # Input state example\n",
    "state_list4 = ['|->_x', '|+>_x', '|+>_z']  # Input state example\n",
    "\n",
    "\n",
    "result_matrix = quantum_state_multiplier(state_list1) +quantum_state_multiplier(state_list2) +quantum_state_multiplier(state_list3) +quantum_state_multiplier(state_list4)\n",
    "sp.pretty_print(result_matrix)  # Show a small preview"
   ]
  },
  {
   "cell_type": "code",
   "execution_count": 144,
   "metadata": {},
   "outputs": [
    {
     "name": "stdout",
     "output_type": "stream",
     "text": [
      "⎡     [[0.125  0  0  0  0  0  0  0]]     ⎤\n",
      "⎢                                        ⎥\n",
      "⎢  [[0  0.125  0.0625  0  0  0  0  0]]   ⎥\n",
      "⎢                                        ⎥\n",
      "⎢[[0  0.0625  0.125  0  0.0625  0  0  0]]⎥\n",
      "⎢                                        ⎥\n",
      "⎢  [[0  0  0  0.125  0  0.0625  0  0]]   ⎥\n",
      "⎢                                        ⎥\n",
      "⎢  [[0  0  0.0625  0  0.125  0  0  0]]   ⎥\n",
      "⎢                                        ⎥\n",
      "⎢[[0  0  0  0.0625  0  0.125  0.0625  0]]⎥\n",
      "⎢                                        ⎥\n",
      "⎢  [[0  0  0  0  0  0.0625  0.125  0]]   ⎥\n",
      "⎢                                        ⎥\n",
      "⎣     [[0  0  0  0  0  0  0  0.125]]     ⎦\n"
     ]
    }
   ],
   "source": [
    "#state 8\n",
    "state_list1 = ['|+>_z', '|->_x', '|->_x']  # Input state example\n",
    "state_list2 = ['|+>_x', '|+>_x', '|->_z']  # Input state example\n",
    "state_list3 = ['|->_z', '|+>_x', '|+>_x']  # Input state example\n",
    "state_list4 = ['|->_x', '|->_x', '|+>_z']  # Input state example\n",
    "\n",
    "\n",
    "result_matrix = 1/4*(quantum_state_multiplier(state_list1) +quantum_state_multiplier(state_list2) +quantum_state_multiplier(state_list3) +quantum_state_multiplier(state_list4))\n",
    "sp.pretty_print(result_matrix)  # Show a small preview"
   ]
  },
  {
   "cell_type": "code",
   "execution_count": 145,
   "metadata": {},
   "outputs": [
    {
     "name": "stdout",
     "output_type": "stream",
     "text": [
      "⎡  [[0.125  0  0  0  0  0  0  0]]   ⎤\n",
      "⎢                                   ⎥\n",
      "⎢[[0  0.125  0  0  -0.125  0  0  0]]⎥\n",
      "⎢                                   ⎥\n",
      "⎢  [[0  0  0.125  0  0  0  0  0]]   ⎥\n",
      "⎢                                   ⎥\n",
      "⎢[[0  0  0  0.125  0  0  -0.125  0]]⎥\n",
      "⎢                                   ⎥\n",
      "⎢[[0  -0.125  0  0  0.125  0  0  0]]⎥\n",
      "⎢                                   ⎥\n",
      "⎢  [[0  0  0  0  0  0.125  0  0]]   ⎥\n",
      "⎢                                   ⎥\n",
      "⎢[[0  0  0  -0.125  0  0  0.125  0]]⎥\n",
      "⎢                                   ⎥\n",
      "⎣  [[0  0  0  0  0  0  0  0.125]]   ⎦\n"
     ]
    }
   ],
   "source": [
    "#state 9\n",
    "state_list1 = ['|+>_x', '|+>_z', '|->_x']  # Input state example\n",
    "state_list2 = ['|+>_x', '|->_z', '|->_x']  # Input state example\n",
    "state_list3 = ['|->_x', '|+>_z', '|+>_x']  # Input state example\n",
    "state_list4 = ['|->_x', '|->_z', '|+>_x']  # Input state example\n",
    "\n",
    "\n",
    "result_matrix = 1/4*(quantum_state_multiplier(state_list1) +quantum_state_multiplier(state_list2) +quantum_state_multiplier(state_list3) +quantum_state_multiplier(state_list4))\n",
    "sp.pretty_print(result_matrix)  # Show a small preview"
   ]
  },
  {
   "cell_type": "code",
   "execution_count": 146,
   "metadata": {},
   "outputs": [
    {
     "name": "stdout",
     "output_type": "stream",
     "text": [
      "⎡  [[0.125  0  0  0  0  0  0  0]]  ⎤\n",
      "⎢                                  ⎥\n",
      "⎢[[0  0.125  0  0  0.125  0  0  0]]⎥\n",
      "⎢                                  ⎥\n",
      "⎢  [[0  0  0.125  0  0  0  0  0]]  ⎥\n",
      "⎢                                  ⎥\n",
      "⎢[[0  0  0  0.125  0  0  0.125  0]]⎥\n",
      "⎢                                  ⎥\n",
      "⎢[[0  0.125  0  0  0.125  0  0  0]]⎥\n",
      "⎢                                  ⎥\n",
      "⎢  [[0  0  0  0  0  0.125  0  0]]  ⎥\n",
      "⎢                                  ⎥\n",
      "⎢[[0  0  0  0.125  0  0  0.125  0]]⎥\n",
      "⎢                                  ⎥\n",
      "⎣  [[0  0  0  0  0  0  0  0.125]]  ⎦\n"
     ]
    }
   ],
   "source": [
    "#state 10\n",
    "state_list1 = ['|+>_x', '|+>_z', '|+>_x']  # Input state example\n",
    "state_list2 = ['|->_x', '|->_z', '|->_x']  # Input state example\n",
    "\n",
    "\n",
    "\n",
    "result_matrix = 1/2*(quantum_state_multiplier(state_list1) +quantum_state_multiplier(state_list2))\n",
    "sp.pretty_print(result_matrix)  # Show a small preview\n",
    "\n"
   ]
  },
  {
   "cell_type": "code",
   "execution_count": 140,
   "metadata": {},
   "outputs": [
    {
     "name": "stdout",
     "output_type": "stream",
     "text": [
      "⎡   [[1/2  0  0  0  0  0  0  0]]   ⎤\n",
      "⎢                                  ⎥\n",
      "⎢ [[0  1/2  -1/4  0  0  0  0  0]]  ⎥\n",
      "⎢                                  ⎥\n",
      "⎢[[0  -1/4  1/2  0  -1/4  0  0  0]]⎥\n",
      "⎢                                  ⎥\n",
      "⎢ [[0  0  0  1/2  0  -1/4  0  0]]  ⎥\n",
      "⎢                                  ⎥\n",
      "⎢ [[0  0  -1/4  0  1/2  0  0  0]]  ⎥\n",
      "⎢                                  ⎥\n",
      "⎢[[0  0  0  -1/4  0  1/2  -1/4  0]]⎥\n",
      "⎢                                  ⎥\n",
      "⎢ [[0  0  0  0  0  -1/4  1/2  0]]  ⎥\n",
      "⎢                                  ⎥\n",
      "⎣   [[0  0  0  0  0  0  0  1/2]]   ⎦\n"
     ]
    }
   ],
   "source": [
    "#state 11\n",
    "state_list1 = ['|+>_z', '|->_x', '|+>_x']  # Input state example\n",
    "state_list2 = ['|+>_x', '|->_x', '|+>_z']  # Input state example\n",
    "state_list3 = ['|->_z', '|+>_x', '|->_x']  # Input state example\n",
    "state_list4 = ['|->_x', '|+>_x', '|->_z']  # Input state example\n",
    "\n",
    "\n",
    "result_matrix = quantum_state_multiplier(state_list1) +quantum_state_multiplier(state_list2) +quantum_state_multiplier(state_list3) +quantum_state_multiplier(state_list4)\n",
    "sp.pretty_print(result_matrix)  # Show a small preview"
   ]
  },
  {
   "cell_type": "code",
   "execution_count": 134,
   "metadata": {},
   "outputs": [
    {
     "name": "stdout",
     "output_type": "stream",
     "text": [
      "⎡[[1/2  0  0  0  0  0  0  0]]⎤\n",
      "⎢                            ⎥\n",
      "⎢ [[0  0  0  0  0  0  0  0]] ⎥\n",
      "⎢                            ⎥\n",
      "⎢[[0  0  1/2  0  0  0  0  0]]⎥\n",
      "⎢                            ⎥\n",
      "⎢ [[0  0  0  0  0  0  0  0]] ⎥\n",
      "⎢                            ⎥\n",
      "⎢ [[0  0  0  0  0  0  0  0]] ⎥\n",
      "⎢                            ⎥\n",
      "⎢[[0  0  0  0  0  1/2  0  0]]⎥\n",
      "⎢                            ⎥\n",
      "⎢ [[0  0  0  0  0  0  0  0]] ⎥\n",
      "⎢                            ⎥\n",
      "⎣[[0  0  0  0  0  0  0  1/2]]⎦\n"
     ]
    }
   ],
   "source": [
    "#state 14\n",
    "state_list1 = ['|+>_z', '|->_x', '|+>_z']  # Input state example\n",
    "state_list2 = ['|->_z', '|+>_x', '|->_z']  # Input state example\n",
    "\n",
    "\n",
    "\n",
    "result_matrix = quantum_state_multiplier(state_list1) +quantum_state_multiplier(state_list2) \n",
    "sp.pretty_print(result_matrix)  # Show a small preview\n",
    "\n"
   ]
  },
  {
   "cell_type": "code",
   "execution_count": 116,
   "metadata": {},
   "outputs": [
    {
     "name": "stdout",
     "output_type": "stream",
     "text": [
      "⎡ [[1  0  0  0  0  0  0  0]] ⎤\n",
      "⎢                            ⎥\n",
      "⎢ [[0  1  0  0  0  0  0  0]] ⎥\n",
      "⎢                            ⎥\n",
      "⎢[[0  0  1.0  0  0  0  0  0]]⎥\n",
      "⎢                            ⎥\n",
      "⎢[[0  0  0  1.0  0  0  0  0]]⎥\n",
      "⎢                            ⎥\n",
      "⎢ [[0  0  0  0  1  0  0  0]] ⎥\n",
      "⎢                            ⎥\n",
      "⎢ [[0  0  0  0  0  1  0  0]] ⎥\n",
      "⎢                            ⎥\n",
      "⎢[[0  0  0  0  0  0  1.0  0]]⎥\n",
      "⎢                            ⎥\n",
      "⎣[[0  0  0  0  0  0  0  1.0]]⎦\n"
     ]
    }
   ],
   "source": [
    "#state 15\n",
    "state_list1 = ['|+>_x', '|+>_y', '|+>_z']  # Input state example\n",
    "state_list2 = ['|->_z', '|+>_y', '|->_x']  # Input state example\n",
    "state_list3 = ['|->_x', '|->_y', '|->_z']  # Input state example\n",
    "state_list4 = ['|+>_z', '|->_y', '|+>_x']  # Input state example\n",
    "state_list5 = ['|+>_z', '|+>_y', '|+>_x']  # Input state example\n",
    "state_list6 = ['|->_x', '|+>_y', '|->_z']  # Input state example\n",
    "state_list7 = ['|->_z', '|->_y', '|->_x']  # Input state example\n",
    "state_list8 = ['|+>_x', '|->_y', '|+>_z']  # Input state example\n",
    "\n",
    "\n",
    "\n",
    "result_matrix = quantum_state_multiplier(state_list1) +quantum_state_multiplier(state_list2) +quantum_state_multiplier(state_list3) +quantum_state_multiplier(state_list4)+quantum_state_multiplier(state_list5) +quantum_state_multiplier(state_list6) +quantum_state_multiplier(state_list7) +quantum_state_multiplier(state_list8)\n",
    "sp.pretty_print(result_matrix)  # Show a small preview\n",
    "\n"
   ]
  },
  {
   "cell_type": "code",
   "execution_count": 117,
   "metadata": {},
   "outputs": [
    {
     "name": "stdout",
     "output_type": "stream",
     "text": [
      "⎡ [[1  0  0  0  0  0  0  0]] ⎤\n",
      "⎢                            ⎥\n",
      "⎢[[0  1.0  0  0  0  0  0  0]]⎥\n",
      "⎢                            ⎥\n",
      "⎢ [[0  0  1  0  0  0  0  0]] ⎥\n",
      "⎢                            ⎥\n",
      "⎢[[0  0  0  1.0  0  0  0  0]]⎥\n",
      "⎢                            ⎥\n",
      "⎢[[0  0  0  0  1.0  0  0  0]]⎥\n",
      "⎢                            ⎥\n",
      "⎢[[0  0  0  0  0  1.0  0  0]]⎥\n",
      "⎢                            ⎥\n",
      "⎢[[0  0  0  0  0  0  1.0  0]]⎥\n",
      "⎢                            ⎥\n",
      "⎣[[0  0  0  0  0  0  0  1.0]]⎦\n"
     ]
    }
   ],
   "source": [
    "#state 16\n",
    "state_list1 = ['|+>_y', '|+>_z', '|+>_x']  # Input state example\n",
    "state_list2 = ['|->_x', '|->_z', '|+>_y']  # Input state example\n",
    "state_list3 = ['|->_y', '|->_z', '|->_x']  # Input state example\n",
    "state_list4 = ['|+>_x', '|+>_z', '|->_y']  # Input state example\n",
    "state_list5 = ['|+>_x', '|+>_z', '|+>_y']  # Input state example\n",
    "state_list6 = ['|+>_y', '|->_z', '|->_x']  # Input state example\n",
    "state_list7 = ['|->_x', '|->_z', '|->_y']  # Input state example\n",
    "state_list8 = ['|->_y', '|+>_z', '|+>_x']  # Input state example\n",
    "\n",
    "\n",
    "\n",
    "result_matrix = quantum_state_multiplier(state_list1) +quantum_state_multiplier(state_list2) +quantum_state_multiplier(state_list3) +quantum_state_multiplier(state_list4)+quantum_state_multiplier(state_list5) +quantum_state_multiplier(state_list6) +quantum_state_multiplier(state_list7) +quantum_state_multiplier(state_list8)\n",
    "sp.pretty_print(result_matrix)  # Show a small preview\n",
    "\n"
   ]
  },
  {
   "cell_type": "code",
   "execution_count": 137,
   "metadata": {},
   "outputs": [
    {
     "name": "stdout",
     "output_type": "stream",
     "text": [
      "⎡ [[1/2  0  0  0  0  0  0  0]]  ⎤\n",
      "⎢                               ⎥\n",
      "⎢[[0  1/2  0  0  -1/2  0  0  0]]⎥\n",
      "⎢                               ⎥\n",
      "⎢ [[0  0  1/2  0  0  0  0  0]]  ⎥\n",
      "⎢                               ⎥\n",
      "⎢[[0  0  0  1/2  0  0  -1/2  0]]⎥\n",
      "⎢                               ⎥\n",
      "⎢[[0  -1/2  0  0  1/2  0  0  0]]⎥\n",
      "⎢                               ⎥\n",
      "⎢ [[0  0  0  0  0  1/2  0  0]]  ⎥\n",
      "⎢                               ⎥\n",
      "⎢[[0  0  0  -1/2  0  0  1/2  0]]⎥\n",
      "⎢                               ⎥\n",
      "⎣ [[0  0  0  0  0  0  0  1/2]]  ⎦\n"
     ]
    }
   ],
   "source": [
    "#state 26\n",
    "state_list1 = ['|+>_x', '|+>_x', '|->_x']  # Input state example\n",
    "state_list2 = ['|+>_x', '|->_x', '|->_x']  # Input state example\n",
    "state_list3 = ['|->_x', '|+>_x', '|+>_x']  # Input state example\n",
    "state_list4 = ['|->_x', '|->_x', '|+>_x']  # Input state example\n",
    "\n",
    "\n",
    "result_matrix = quantum_state_multiplier(state_list1) +quantum_state_multiplier(state_list2) +quantum_state_multiplier(state_list3) +quantum_state_multiplier(state_list4)\n",
    "sp.pretty_print(result_matrix)  # Show a small preview"
   ]
  },
  {
   "cell_type": "code",
   "execution_count": 148,
   "metadata": {},
   "outputs": [
    {
     "name": "stdout",
     "output_type": "stream",
     "text": [
      "⎡     [[0.125  0  0  0  0  0  0  0]]     ⎤\n",
      "⎢                                        ⎥\n",
      "⎢  [[0  0.125  0.0625  0  0  0  0  0]]   ⎥\n",
      "⎢                                        ⎥\n",
      "⎢[[0  0.0625  0.125  0  0.0625  0  0  0]]⎥\n",
      "⎢                                        ⎥\n",
      "⎢  [[0  0  0  0.125  0  0.0625  0  0]]   ⎥\n",
      "⎢                                        ⎥\n",
      "⎢  [[0  0  0.0625  0  0.125  0  0  0]]   ⎥\n",
      "⎢                                        ⎥\n",
      "⎢[[0  0  0  0.0625  0  0.125  0.0625  0]]⎥\n",
      "⎢                                        ⎥\n",
      "⎢  [[0  0  0  0  0  0.0625  0.125  0]]   ⎥\n",
      "⎢                                        ⎥\n",
      "⎣     [[0  0  0  0  0  0  0  0.125]]     ⎦\n"
     ]
    }
   ],
   "source": [
    "#state 27\n",
    "state_list1 = ['|+>_x', '|+>_x', '|+>_y']  # Input state example\n",
    "state_list2 = ['|+>_y', '|->_x', '|->_x']  # Input state example\n",
    "state_list3 = ['|->_x', '|->_x', '|->_y']  # Input state example\n",
    "state_list4 = ['|->_y', '|+>_x', '|+>_x']  # Input state example\n",
    "state_list5 = ['|+>_y', '|+>_x', '|+>_x']  # Input state example\n",
    "state_list6 = ['|->_x', '|->_x', '|+>_y']  # Input state example\n",
    "state_list7 = ['|->_y', '|->_x', '|->_x']  # Input state example\n",
    "state_list8 = ['|+>_x', '|+>_x', '|->_y']  # Input state example\n",
    "\n",
    "\n",
    "\n",
    "result_matrix = 1/8*(quantum_state_multiplier(state_list1) +quantum_state_multiplier(state_list2) +quantum_state_multiplier(state_list3) +quantum_state_multiplier(state_list4)+quantum_state_multiplier(state_list5) +quantum_state_multiplier(state_list6) +quantum_state_multiplier(state_list7) +quantum_state_multiplier(state_list8))\n",
    "sp.pretty_print(result_matrix)  # Show a small preview\n",
    "\n"
   ]
  },
  {
   "cell_type": "code",
   "execution_count": 147,
   "metadata": {},
   "outputs": [
    {
     "name": "stdout",
     "output_type": "stream",
     "text": [
      "⎡    [[0.125  0  0  0  0  0  0  0]]    ⎤\n",
      "⎢                                      ⎥\n",
      "⎢[[0  0.125  0.125  0  0.125  0  0  0]]⎥\n",
      "⎢                                      ⎥\n",
      "⎢[[0  0.125  0.125  0  0.125  0  0  0]]⎥\n",
      "⎢                                      ⎥\n",
      "⎢[[0  0  0  0.125  0  0.125  0.125  0]]⎥\n",
      "⎢                                      ⎥\n",
      "⎢[[0  0.125  0.125  0  0.125  0  0  0]]⎥\n",
      "⎢                                      ⎥\n",
      "⎢[[0  0  0  0.125  0  0.125  0.125  0]]⎥\n",
      "⎢                                      ⎥\n",
      "⎢[[0  0  0  0.125  0  0.125  0.125  0]]⎥\n",
      "⎢                                      ⎥\n",
      "⎣    [[0  0  0  0  0  0  0  0.125]]    ⎦\n"
     ]
    }
   ],
   "source": [
    "#state 24\n",
    "state_list1 = ['|+>_x', '|+>_x', '|+>_x']  # Input state example\n",
    "state_list2 = ['|->_x', '|->_x', '|->_x']  # Input state example\n",
    "\n",
    "\n",
    "\n",
    "result_matrix = 1/2*(quantum_state_multiplier(state_list1) +quantum_state_multiplier(state_list2) )\n",
    "sp.pretty_print(result_matrix)  # Show a small preview\n",
    "\n"
   ]
  },
  {
   "cell_type": "code",
   "execution_count": 121,
   "metadata": {},
   "outputs": [
    {
     "name": "stdout",
     "output_type": "stream",
     "text": [
      "⎡   [[1/4  0  0  0  0  0  0  0]]   ⎤\n",
      "⎢                                  ⎥\n",
      "⎢[[0  1/4  -1/4  0  1/4  0  0  0]] ⎥\n",
      "⎢                                  ⎥\n",
      "⎢[[0  -1/4  1/4  0  -1/4  0  0  0]]⎥\n",
      "⎢                                  ⎥\n",
      "⎢[[0  0  0  1/4  0  -1/4  1/4  0]] ⎥\n",
      "⎢                                  ⎥\n",
      "⎢[[0  1/4  -1/4  0  1/4  0  0  0]] ⎥\n",
      "⎢                                  ⎥\n",
      "⎢[[0  0  0  -1/4  0  1/4  -1/4  0]]⎥\n",
      "⎢                                  ⎥\n",
      "⎢[[0  0  0  1/4  0  -1/4  1/4  0]] ⎥\n",
      "⎢                                  ⎥\n",
      "⎣   [[0  0  0  0  0  0  0  1/4]]   ⎦\n"
     ]
    }
   ],
   "source": [
    "#state 25\n",
    "state_list1 = ['|+>_x', '|->_x', '|+>_x']  # Input state example\n",
    "state_list2 = ['|->_x', '|+>_x', '|->_x']  # Input state example\n",
    "\n",
    "\n",
    "\n",
    "result_matrix = quantum_state_multiplier(state_list1) +quantum_state_multiplier(state_list2) \n",
    "sp.pretty_print(result_matrix)  # Show a small preview\n",
    "\n"
   ]
  },
  {
   "cell_type": "code",
   "execution_count": 139,
   "metadata": {},
   "outputs": [
    {
     "name": "stdout",
     "output_type": "stream",
     "text": [
      "⎡ [[1/2  0  0  0  0  0  0  0]] ⎤\n",
      "⎢                              ⎥\n",
      "⎢[[0  1/2  0  0  1/2  0  0  0]]⎥\n",
      "⎢                              ⎥\n",
      "⎢ [[0  0  0.5  0  0  0  0  0]] ⎥\n",
      "⎢                              ⎥\n",
      "⎢[[0  0  0  0.5  0  0  0.5  0]]⎥\n",
      "⎢                              ⎥\n",
      "⎢[[0  1/2  0  0  1/2  0  0  0]]⎥\n",
      "⎢                              ⎥\n",
      "⎢ [[0  0  0  0  0  1/2  0  0]] ⎥\n",
      "⎢                              ⎥\n",
      "⎢[[0  0  0  0.5  0  0  0.5  0]]⎥\n",
      "⎢                              ⎥\n",
      "⎣ [[0  0  0  0  0  0  0  0.5]] ⎦\n"
     ]
    }
   ],
   "source": [
    "#state 28\n",
    "state_list1 = ['|+>_x', '|+>_y', '|+>_x']  # Input state example\n",
    "state_list2 = ['|->_x', '|+>_y', '|->_x']  # Input state example\n",
    "state_list3 = ['|->_x', '|->_y', '|->_x']  # Input state example\n",
    "state_list4 = ['|+>_x', '|->_y', '|+>_x']  # Input state example\n",
    "\n",
    "\n",
    "result_matrix = quantum_state_multiplier(state_list1) +quantum_state_multiplier(state_list2) +quantum_state_multiplier(state_list3) +quantum_state_multiplier(state_list4)\n",
    "sp.pretty_print(result_matrix)  # Show a small preview\n",
    "\n"
   ]
  },
  {
   "cell_type": "code",
   "execution_count": 136,
   "metadata": {},
   "outputs": [
    {
     "name": "stdout",
     "output_type": "stream",
     "text": [
      "⎡    [[1  0  0  0  0  0  0  0]]    ⎤\n",
      "⎢                                  ⎥\n",
      "⎢ [[0  1.0  -1/2  0  0  0  0  0]]  ⎥\n",
      "⎢                                  ⎥\n",
      "⎢ [[0  -1/2  1  0  -1/2  0  0  0]] ⎥\n",
      "⎢                                  ⎥\n",
      "⎢ [[0  0  0  1.0  0  -0.5  0  0]]  ⎥\n",
      "⎢                                  ⎥\n",
      "⎢ [[0  0  -1/2  0  1.0  0  0  0]]  ⎥\n",
      "⎢                                  ⎥\n",
      "⎢[[0  0  0  -0.5  0  1.0  -0.5  0]]⎥\n",
      "⎢                                  ⎥\n",
      "⎢ [[0  0  0  0  0  -0.5  1.0  0]]  ⎥\n",
      "⎢                                  ⎥\n",
      "⎣   [[0  0  0  0  0  0  0  1.0]]   ⎦\n"
     ]
    }
   ],
   "source": [
    "#state 29\n",
    "state_list1 = ['|+>_x', '|->_x', '|+>_y']  # Input state example\n",
    "state_list2 = ['|->_y', '|->_x', '|+>_x']  # Input state example\n",
    "state_list3 = ['|->_x', '|+>_x', '|->_y']  # Input state example\n",
    "state_list4 = ['|->_x', '|+>_x', '|+>_y']  # Input state example\n",
    "state_list5 = ['|+>_y', '|->_x', '|+>_x']  # Input state example\n",
    "state_list6 = ['|+>_x', '|->_x', '|->_y']  # Input state example\n",
    "state_list7 = ['|->_y', '|+>_x', '|->_x']  # Input state example\n",
    "state_list8 = ['|+>_y', '|+>_x', '|->_x']  # Input state example\n",
    "\n",
    "\n",
    "\n",
    "result_matrix = quantum_state_multiplier(state_list1) +quantum_state_multiplier(state_list2) +quantum_state_multiplier(state_list3) +quantum_state_multiplier(state_list4)+quantum_state_multiplier(state_list5) +quantum_state_multiplier(state_list6) +quantum_state_multiplier(state_list7) +quantum_state_multiplier(state_list8)\n",
    "sp.pretty_print(result_matrix)  # Show a small preview\n",
    "\n"
   ]
  },
  {
   "cell_type": "code",
   "execution_count": null,
   "metadata": {},
   "outputs": [],
   "source": []
  }
 ],
 "metadata": {
  "kernelspec": {
   "display_name": "cwq",
   "language": "python",
   "name": "python3"
  },
  "language_info": {
   "codemirror_mode": {
    "name": "ipython",
    "version": 3
   },
   "file_extension": ".py",
   "mimetype": "text/x-python",
   "name": "python",
   "nbconvert_exporter": "python",
   "pygments_lexer": "ipython3",
   "version": "3.12.4"
  }
 },
 "nbformat": 4,
 "nbformat_minor": 2
}
